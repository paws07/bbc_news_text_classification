{
  "nbformat": 4,
  "nbformat_minor": 0,
  "metadata": {
    "colab": {
      "provenance": [],
      "include_colab_link": true
    },
    "kernelspec": {
      "name": "python3",
      "display_name": "Python 3"
    },
    "language_info": {
      "name": "python"
    }
  },
  "cells": [
    {
      "cell_type": "markdown",
      "metadata": {
        "id": "view-in-github",
        "colab_type": "text"
      },
      "source": [
        "<a href=\"https://colab.research.google.com/github/paws07/bbc_news_text_classification/blob/master/Copy_of_DS_data_challenge.ipynb\" target=\"_parent\"><img src=\"https://colab.research.google.com/assets/colab-badge.svg\" alt=\"Open In Colab\"/></a>"
      ]
    },
    {
      "cell_type": "markdown",
      "metadata": {
        "id": "Z5Vcv0OZ3CHJ"
      },
      "source": [
        "#U-Haul Data Challenge\n",
        "\n",
        "## About\n",
        "This data challenge is based on a pseudo realistic use case. U-Haul is piloting a new shipping program and we want to explore the effectiveness and if we can better predict success of associated offers.\n",
        "\n",
        "In this program people who rent a truck on a one-way trip can agree to take and deliver some additional boxes in exchange for a discount. In this process the renter of the truck will be presented with an offer to go pick-up one or more boxes from another location, then drop them off at a new location before dropping off their rental at their new destination. The idea is that renters frequently have extra space, and drivers might be happy to added a few extra miles on either end of their trip in exchange for a discount on the rental.\n",
        "\n",
        "Currently the system works by finding boxes that need shipping within a radius of the truck pick-up and drop-off point. Ideally the shorter the distance the driver has to drive from their pick-up and drop-off relative to the package pick-up and drop-off, the better. Based on the matches, an agent then reaches out to the truck renter and makes an offer to drive the boxes. This offer process is intensive in terms of agent time, and thus it would be great if we could automatically determine if a truck renter is likely to accept an offer.\n",
        "\n",
        "The dataset contains all the offers that were made through this program.  Features include parameters around the offer. The target is if the offer an agent made was successful (the truck renter accepted the offer).\n",
        "\n",
        "## Goal\n",
        "\n",
        "**The goal is to predict what truck returns are likely to accept an offer to move boxes in exchange for a discount**. Please build out a model that does this as you see fit.  \n",
        "\n",
        "Document throughout as you think is best, but at the end please include two summaries:  \n",
        "1. A brief summary directed at the data team who already understand data science and machine learning.  \n",
        "2. A summary directed at the program manager of this product. Assume that they know the goal and data, but that they are not necessarily aware of the nuance of data science projects.\n",
        "\n",
        "## The data\n",
        "\n",
        "There are a number of features in this dataset.  They are:\n",
        "* **pickup_date_difference**: This is the number of days between when the truck is due to be picked up and when the boxes need to be picked up.  So, let’s say a truck will be picked up on May 15th, and the boxes need to be picked up on on May 18th, then the difference is +3.\n",
        "* **dropoff_date_difference**: This is the number of days between when the truck is due to be dropped off and when the boxes need to be dropped off.  So, let’s say a truck will be dropped off on  June 1s, and the boxes on June 3rd, then the difference is +2.\n",
        "* **Origin_to_pickup**: This is the number of extra miles between the truck's pick-up point and where the boxes must be picked up.\n",
        "* **Destination_to_dropoff**: This is the number of extra miles between the trucks destination and where the boxes must be delivered\n",
        "* **Origin_to_destination**: This is the distance between the truck renter’s starting point of where they got the truck to the destination where they’ll return the truck\n",
        "* **pickup_to_dropoff**: This is the number of miles between the box pick-up point and the box drop-off point\n",
        "* **Out_of_way_score**:  This is a metric for how much extra distance the truck renter needs to drive in order to pick up and drop off the boxes.\n",
        "* **Truck_size**:  Renters can rent either a small or large truck\n",
        "* **Rental_rate**:  The cost in dollars of the truck rental\n",
        "* **Discount_offer**: The discount in dollars for transporting the boxes\n",
        "* **Insurance_purchased**: If they bought insurance with their rental\n",
        "* **Renter_verified**: Are they pre-verified\n",
        "* **Date_of_birth**: Reported date of birth\n",
        "* **Success**: If an renter accepted the offer\n",
        "\n",
        "## out_of_way_score\n",
        "\n",
        "Below is an illustration of the distances involved.  The out of way score is essentially the percent extra distance needed to perform the pick-up and drop-off relative to the original distance from origin to destination.  In this example below the score would be high as they have to drive away from their destination to pick-up, and past it to drop-off\n",
        "![](https://i.imgur.com/ZcTomDt.png)\n",
        "\n",
        "\n",
        "## Tools\n",
        "\n",
        "This is obviously a google Colab notebook. Please stick to this environment for the challenge.  Virtually all the common data science packages are pre installed.  You can pip install others if needed.  If you do that, leave the code block there so we can install it as well.\n",
        "\n",
        "You can add code and text cells by hovering at the top or bottom of existing cells.  Text cells support markdown formatting or auto formatting.  See screenshot below.\n",
        "\n",
        "![](https://i.imgur.com/0d5L9Wr.png)\n",
        "\n",
        " ## Getting started\n",
        "\n",
        " I've included one cell with a pandas import and alias.  The next just has the data import. Please alter/add those as you see fit. Of course, add as many code and text blocks as needed.\n",
        "\n",
        "\n",
        ""
      ]
    },
    {
      "cell_type": "markdown",
      "metadata": {
        "id": "zHCfBh1JnbZ6"
      },
      "source": []
    },
    {
      "cell_type": "markdown",
      "metadata": {
        "id": "sC8_xKTxmZCU"
      },
      "source": [
        "# Problem statement:\n",
        "##### Based on the provided information, build a good model to predict what truck returns are likely to accept the offer to move extra boxes in exchange to rental discount.\n"
      ]
    },
    {
      "cell_type": "code",
      "metadata": {
        "id": "LcXri5onLNOW",
        "colab": {
          "base_uri": "https://localhost:8080/"
        },
        "outputId": "7286a893-184e-43b5-b978-282ad644b607"
      },
      "source": [
        "# Necessary import\n",
        "import pandas as pd\n",
        "import numpy as np\n",
        "from datetime import datetime\n",
        "\n",
        "from sklearn_pandas import DataFrameMapper\n",
        "from sklearn.preprocessing import OrdinalEncoder, StandardScaler, MinMaxScaler\n",
        "from sklearn.model_selection import train_test_split\n",
        "\n",
        "from collections import Counter\n",
        "from imblearn.over_sampling import RandomOverSampler, SMOTE\n",
        "\n",
        "\n",
        "import matplotlib.pyplot as plt\n",
        "%matplotlib inline\n",
        "import seaborn as sns\n",
        "\n",
        "from sklearn.linear_model import LogisticRegression\n",
        "from sklearn.ensemble import RandomForestClassifier\n",
        "from sklearn.naive_bayes import GaussianNB\n",
        "from sklearn.svm import LinearSVC\n",
        "from xgboost import XGBClassifier as xgb\n",
        "\n",
        "from sklearn.model_selection import GridSearchCV\n",
        "from sklearn.metrics import precision_score, recall_score, f1_score, roc_auc_score, classification_report\n",
        "\n",
        "import warnings\n",
        "warnings.filterwarnings(\"ignore\")\n"
      ],
      "execution_count": null,
      "outputs": [
        {
          "output_type": "stream",
          "text": [
            "/usr/local/lib/python3.7/dist-packages/sklearn/externals/six.py:31: FutureWarning: The module is deprecated in version 0.21 and will be removed in version 0.23 since we've dropped support for Python 2.7. Please rely on the official version of six (https://pypi.org/project/six/).\n",
            "  \"(https://pypi.org/project/six/).\", FutureWarning)\n",
            "/usr/local/lib/python3.7/dist-packages/sklearn/utils/deprecation.py:144: FutureWarning: The sklearn.neighbors.base module is  deprecated in version 0.22 and will be removed in version 0.24. The corresponding classes / functions should instead be imported from sklearn.neighbors. Anything that cannot be imported from sklearn.neighbors is now part of the private API.\n",
            "  warnings.warn(message, FutureWarning)\n"
          ],
          "name": "stderr"
        }
      ]
    },
    {
      "cell_type": "markdown",
      "metadata": {
        "id": "WCMvzgAbn06O"
      },
      "source": [
        "# 1. Load dataset\n"
      ]
    },
    {
      "cell_type": "code",
      "metadata": {
        "id": "U8way3X5K6-w"
      },
      "source": [
        "# Link to CSV to be imported as pandas data frame\n",
        "df = pd.read_csv(\"https://docs.google.com/spreadsheets/d/1xYadr0BJPR2YYLZyK0eEX0cSIEiMmBV-00KrSwaLZK4/gviz/tq?tqx=out:csv\")"
      ],
      "execution_count": null,
      "outputs": []
    },
    {
      "cell_type": "code",
      "metadata": {
        "id": "sot0OCBxrFvT",
        "colab": {
          "base_uri": "https://localhost:8080/",
          "height": 204
        },
        "outputId": "ce97dbb4-f6a6-44c8-b509-73acb56d1b12"
      },
      "source": [
        "# The rest is up you you :)\n",
        "df.head()"
      ],
      "execution_count": null,
      "outputs": [
        {
          "output_type": "execute_result",
          "data": {
            "text/html": [
              "<div>\n",
              "<style scoped>\n",
              "    .dataframe tbody tr th:only-of-type {\n",
              "        vertical-align: middle;\n",
              "    }\n",
              "\n",
              "    .dataframe tbody tr th {\n",
              "        vertical-align: top;\n",
              "    }\n",
              "\n",
              "    .dataframe thead th {\n",
              "        text-align: right;\n",
              "    }\n",
              "</style>\n",
              "<table border=\"1\" class=\"dataframe\">\n",
              "  <thead>\n",
              "    <tr style=\"text-align: right;\">\n",
              "      <th></th>\n",
              "      <th>dropoff_date_difference</th>\n",
              "      <th>pickup_date_difference</th>\n",
              "      <th>origin_to_destination</th>\n",
              "      <th>origin_to_pickup</th>\n",
              "      <th>pickup_to_dropoff</th>\n",
              "      <th>destination_to_dropoff</th>\n",
              "      <th>out_of_way_score</th>\n",
              "      <th>truck_size</th>\n",
              "      <th>load_size</th>\n",
              "      <th>rental_rate</th>\n",
              "      <th>offer_amount</th>\n",
              "      <th>insurance_purchased</th>\n",
              "      <th>renter_verified</th>\n",
              "      <th>date_of_birth</th>\n",
              "      <th>success</th>\n",
              "    </tr>\n",
              "  </thead>\n",
              "  <tbody>\n",
              "    <tr>\n",
              "      <th>0</th>\n",
              "      <td>7</td>\n",
              "      <td>0</td>\n",
              "      <td>1533.72000</td>\n",
              "      <td>111.071000</td>\n",
              "      <td>685.25934</td>\n",
              "      <td>969.54160</td>\n",
              "      <td>15.14</td>\n",
              "      <td>Small</td>\n",
              "      <td>1</td>\n",
              "      <td>538.4</td>\n",
              "      <td>35</td>\n",
              "      <td>yes</td>\n",
              "      <td>True</td>\n",
              "      <td>2/17/1960</td>\n",
              "      <td>no</td>\n",
              "    </tr>\n",
              "    <tr>\n",
              "      <th>1</th>\n",
              "      <td>2</td>\n",
              "      <td>6</td>\n",
              "      <td>2915.52900</td>\n",
              "      <td>192.151580</td>\n",
              "      <td>1933.36300</td>\n",
              "      <td>917.51300</td>\n",
              "      <td>4.37</td>\n",
              "      <td>Large</td>\n",
              "      <td>1</td>\n",
              "      <td>3226.5</td>\n",
              "      <td>45</td>\n",
              "      <td>yes</td>\n",
              "      <td>True</td>\n",
              "      <td>3/23/1958</td>\n",
              "      <td>no</td>\n",
              "    </tr>\n",
              "    <tr>\n",
              "      <th>2</th>\n",
              "      <td>6</td>\n",
              "      <td>6</td>\n",
              "      <td>1818.12960</td>\n",
              "      <td>39.670200</td>\n",
              "      <td>1645.80850</td>\n",
              "      <td>185.09406</td>\n",
              "      <td>2.88</td>\n",
              "      <td>Small</td>\n",
              "      <td>1</td>\n",
              "      <td>1123.3</td>\n",
              "      <td>45</td>\n",
              "      <td>yes</td>\n",
              "      <td>True</td>\n",
              "      <td>2/8/1959</td>\n",
              "      <td>no</td>\n",
              "    </tr>\n",
              "    <tr>\n",
              "      <th>3</th>\n",
              "      <td>4</td>\n",
              "      <td>1</td>\n",
              "      <td>965.23987</td>\n",
              "      <td>20.485987</td>\n",
              "      <td>985.97200</td>\n",
              "      <td>64.66548</td>\n",
              "      <td>10.97</td>\n",
              "      <td>Large</td>\n",
              "      <td>1</td>\n",
              "      <td>1567.7</td>\n",
              "      <td>35</td>\n",
              "      <td>yes</td>\n",
              "      <td>True</td>\n",
              "      <td>3/26/1970</td>\n",
              "      <td>no</td>\n",
              "    </tr>\n",
              "    <tr>\n",
              "      <th>4</th>\n",
              "      <td>6</td>\n",
              "      <td>0</td>\n",
              "      <td>1152.21420</td>\n",
              "      <td>66.468080</td>\n",
              "      <td>743.04930</td>\n",
              "      <td>538.75366</td>\n",
              "      <td>17.02</td>\n",
              "      <td>Small</td>\n",
              "      <td>1</td>\n",
              "      <td>1523.5</td>\n",
              "      <td>35</td>\n",
              "      <td>yes</td>\n",
              "      <td>True</td>\n",
              "      <td>4/4/1965</td>\n",
              "      <td>no</td>\n",
              "    </tr>\n",
              "  </tbody>\n",
              "</table>\n",
              "</div>"
            ],
            "text/plain": [
              "   dropoff_date_difference  pickup_date_difference  ...  date_of_birth  success\n",
              "0                        7                       0  ...      2/17/1960       no\n",
              "1                        2                       6  ...      3/23/1958       no\n",
              "2                        6                       6  ...       2/8/1959       no\n",
              "3                        4                       1  ...      3/26/1970       no\n",
              "4                        6                       0  ...       4/4/1965       no\n",
              "\n",
              "[5 rows x 15 columns]"
            ]
          },
          "metadata": {
            "tags": []
          },
          "execution_count": 3
        }
      ]
    },
    {
      "cell_type": "markdown",
      "metadata": {
        "id": "SAJD2wUPpHqJ"
      },
      "source": [
        "# 2. Data preprocessing"
      ]
    },
    {
      "cell_type": "code",
      "metadata": {
        "id": "F2bcT9fOsZBa"
      },
      "source": [
        "df = df.drop_duplicates(keep='first')"
      ],
      "execution_count": null,
      "outputs": []
    },
    {
      "cell_type": "code",
      "metadata": {
        "colab": {
          "base_uri": "https://localhost:8080/"
        },
        "id": "mapwPs8Tsf6_",
        "outputId": "413249bb-e2ff-4536-b2d2-60baf3581fbd"
      },
      "source": [
        "df.shape"
      ],
      "execution_count": null,
      "outputs": [
        {
          "output_type": "execute_result",
          "data": {
            "text/plain": [
              "(1000, 15)"
            ]
          },
          "metadata": {
            "tags": []
          },
          "execution_count": 5
        }
      ]
    },
    {
      "cell_type": "markdown",
      "metadata": {
        "id": "gYuvfI8Tzojm"
      },
      "source": [
        "We have 1000 observations, 14 predictor variables(features) and 1 target variable. And there is no duplicated entries."
      ]
    },
    {
      "cell_type": "code",
      "metadata": {
        "colab": {
          "base_uri": "https://localhost:8080/"
        },
        "id": "H5_LJ7z86LGH",
        "outputId": "2c64a658-82fc-4f99-dd78-a5040d26042d"
      },
      "source": [
        "df.info()"
      ],
      "execution_count": null,
      "outputs": [
        {
          "output_type": "stream",
          "text": [
            "<class 'pandas.core.frame.DataFrame'>\n",
            "Int64Index: 1000 entries, 0 to 999\n",
            "Data columns (total 15 columns):\n",
            " #   Column                   Non-Null Count  Dtype  \n",
            "---  ------                   --------------  -----  \n",
            " 0   dropoff_date_difference  1000 non-null   int64  \n",
            " 1   pickup_date_difference   1000 non-null   int64  \n",
            " 2   origin_to_destination    1000 non-null   float64\n",
            " 3   origin_to_pickup         1000 non-null   float64\n",
            " 4   pickup_to_dropoff        1000 non-null   float64\n",
            " 5   destination_to_dropoff   1000 non-null   float64\n",
            " 6   out_of_way_score         1000 non-null   float64\n",
            " 7   truck_size               1000 non-null   object \n",
            " 8   load_size                1000 non-null   int64  \n",
            " 9   rental_rate              1000 non-null   float64\n",
            " 10  offer_amount             1000 non-null   int64  \n",
            " 11  insurance_purchased      1000 non-null   object \n",
            " 12  renter_verified          1000 non-null   bool   \n",
            " 13  date_of_birth            1000 non-null   object \n",
            " 14  success                  1000 non-null   object \n",
            "dtypes: bool(1), float64(6), int64(4), object(4)\n",
            "memory usage: 118.2+ KB\n"
          ],
          "name": "stdout"
        }
      ]
    },
    {
      "cell_type": "markdown",
      "metadata": {
        "id": "lQUi7qH06w4J"
      },
      "source": [
        "**2.1 Inspect the 'date_of_birth' feature**"
      ]
    },
    {
      "cell_type": "code",
      "metadata": {
        "colab": {
          "base_uri": "https://localhost:8080/"
        },
        "id": "Y8OUKVVn6zRc",
        "outputId": "59e29d87-dfef-4a6d-8118-ec8f44629cd0"
      },
      "source": [
        "df.date_of_birth.describe()\n"
      ],
      "execution_count": null,
      "outputs": [
        {
          "output_type": "execute_result",
          "data": {
            "text/plain": [
              "count          1000\n",
              "unique          782\n",
              "top       12/9/1993\n",
              "freq              8\n",
              "Name: date_of_birth, dtype: object"
            ]
          },
          "metadata": {
            "tags": []
          },
          "execution_count": 7
        }
      ]
    },
    {
      "cell_type": "markdown",
      "metadata": {
        "id": "KFTUQ1oO6_WI"
      },
      "source": [
        "As we would expect, date_of_birth is typically unique, so it would be more useful if convert them to age."
      ]
    },
    {
      "cell_type": "code",
      "metadata": {
        "colab": {
          "base_uri": "https://localhost:8080/",
          "height": 204
        },
        "id": "Fd0JrkRa7A86",
        "outputId": "53174144-d475-4919-c680-af97e8b10c3a"
      },
      "source": [
        "df['date_of_birth'] = pd.to_datetime(df['date_of_birth'])\n",
        "df['year'] = df['date_of_birth'].dt.year\n",
        "current_year = datetime.today().year\n",
        "df['age'] = current_year - df['year']\n",
        "df = df.drop(['date_of_birth', 'year'], axis=1)\n",
        "df.head()"
      ],
      "execution_count": null,
      "outputs": [
        {
          "output_type": "execute_result",
          "data": {
            "text/html": [
              "<div>\n",
              "<style scoped>\n",
              "    .dataframe tbody tr th:only-of-type {\n",
              "        vertical-align: middle;\n",
              "    }\n",
              "\n",
              "    .dataframe tbody tr th {\n",
              "        vertical-align: top;\n",
              "    }\n",
              "\n",
              "    .dataframe thead th {\n",
              "        text-align: right;\n",
              "    }\n",
              "</style>\n",
              "<table border=\"1\" class=\"dataframe\">\n",
              "  <thead>\n",
              "    <tr style=\"text-align: right;\">\n",
              "      <th></th>\n",
              "      <th>dropoff_date_difference</th>\n",
              "      <th>pickup_date_difference</th>\n",
              "      <th>origin_to_destination</th>\n",
              "      <th>origin_to_pickup</th>\n",
              "      <th>pickup_to_dropoff</th>\n",
              "      <th>destination_to_dropoff</th>\n",
              "      <th>out_of_way_score</th>\n",
              "      <th>truck_size</th>\n",
              "      <th>load_size</th>\n",
              "      <th>rental_rate</th>\n",
              "      <th>offer_amount</th>\n",
              "      <th>insurance_purchased</th>\n",
              "      <th>renter_verified</th>\n",
              "      <th>success</th>\n",
              "      <th>age</th>\n",
              "    </tr>\n",
              "  </thead>\n",
              "  <tbody>\n",
              "    <tr>\n",
              "      <th>0</th>\n",
              "      <td>7</td>\n",
              "      <td>0</td>\n",
              "      <td>1533.72000</td>\n",
              "      <td>111.071000</td>\n",
              "      <td>685.25934</td>\n",
              "      <td>969.54160</td>\n",
              "      <td>15.14</td>\n",
              "      <td>Small</td>\n",
              "      <td>1</td>\n",
              "      <td>538.4</td>\n",
              "      <td>35</td>\n",
              "      <td>yes</td>\n",
              "      <td>True</td>\n",
              "      <td>no</td>\n",
              "      <td>61</td>\n",
              "    </tr>\n",
              "    <tr>\n",
              "      <th>1</th>\n",
              "      <td>2</td>\n",
              "      <td>6</td>\n",
              "      <td>2915.52900</td>\n",
              "      <td>192.151580</td>\n",
              "      <td>1933.36300</td>\n",
              "      <td>917.51300</td>\n",
              "      <td>4.37</td>\n",
              "      <td>Large</td>\n",
              "      <td>1</td>\n",
              "      <td>3226.5</td>\n",
              "      <td>45</td>\n",
              "      <td>yes</td>\n",
              "      <td>True</td>\n",
              "      <td>no</td>\n",
              "      <td>63</td>\n",
              "    </tr>\n",
              "    <tr>\n",
              "      <th>2</th>\n",
              "      <td>6</td>\n",
              "      <td>6</td>\n",
              "      <td>1818.12960</td>\n",
              "      <td>39.670200</td>\n",
              "      <td>1645.80850</td>\n",
              "      <td>185.09406</td>\n",
              "      <td>2.88</td>\n",
              "      <td>Small</td>\n",
              "      <td>1</td>\n",
              "      <td>1123.3</td>\n",
              "      <td>45</td>\n",
              "      <td>yes</td>\n",
              "      <td>True</td>\n",
              "      <td>no</td>\n",
              "      <td>62</td>\n",
              "    </tr>\n",
              "    <tr>\n",
              "      <th>3</th>\n",
              "      <td>4</td>\n",
              "      <td>1</td>\n",
              "      <td>965.23987</td>\n",
              "      <td>20.485987</td>\n",
              "      <td>985.97200</td>\n",
              "      <td>64.66548</td>\n",
              "      <td>10.97</td>\n",
              "      <td>Large</td>\n",
              "      <td>1</td>\n",
              "      <td>1567.7</td>\n",
              "      <td>35</td>\n",
              "      <td>yes</td>\n",
              "      <td>True</td>\n",
              "      <td>no</td>\n",
              "      <td>51</td>\n",
              "    </tr>\n",
              "    <tr>\n",
              "      <th>4</th>\n",
              "      <td>6</td>\n",
              "      <td>0</td>\n",
              "      <td>1152.21420</td>\n",
              "      <td>66.468080</td>\n",
              "      <td>743.04930</td>\n",
              "      <td>538.75366</td>\n",
              "      <td>17.02</td>\n",
              "      <td>Small</td>\n",
              "      <td>1</td>\n",
              "      <td>1523.5</td>\n",
              "      <td>35</td>\n",
              "      <td>yes</td>\n",
              "      <td>True</td>\n",
              "      <td>no</td>\n",
              "      <td>56</td>\n",
              "    </tr>\n",
              "  </tbody>\n",
              "</table>\n",
              "</div>"
            ],
            "text/plain": [
              "   dropoff_date_difference  pickup_date_difference  ...  success  age\n",
              "0                        7                       0  ...       no   61\n",
              "1                        2                       6  ...       no   63\n",
              "2                        6                       6  ...       no   62\n",
              "3                        4                       1  ...       no   51\n",
              "4                        6                       0  ...       no   56\n",
              "\n",
              "[5 rows x 15 columns]"
            ]
          },
          "metadata": {
            "tags": []
          },
          "execution_count": 8
        }
      ]
    },
    {
      "cell_type": "markdown",
      "metadata": {
        "id": "BSvUdqBH7mcj"
      },
      "source": [
        "**2.2 Inspect the numeric variables: 'origin_to_destination', 'origin_to_pickup', 'pickup_to_dropoff', 'destination_to_dropoff' , 'rental_rate'**"
      ]
    },
    {
      "cell_type": "code",
      "metadata": {
        "colab": {
          "base_uri": "https://localhost:8080/",
          "height": 204
        },
        "id": "br6mOy3L7xQ3",
        "outputId": "85c22f10-7974-4e34-8e2f-f777f486b5a4"
      },
      "source": [
        "# Convert 'origin_to_destination', 'origin_to_pickup', 'pickup_to_dropoff', 'destination_to_dropoff' , 'rental_rate' to integer\n",
        "cols2 = ['origin_to_destination', 'origin_to_pickup', 'pickup_to_dropoff', 'destination_to_dropoff' , 'rental_rate']\n",
        "for col in cols2:\n",
        "  df[col] = df[col].map(int)\n",
        "df.head()"
      ],
      "execution_count": null,
      "outputs": [
        {
          "output_type": "execute_result",
          "data": {
            "text/html": [
              "<div>\n",
              "<style scoped>\n",
              "    .dataframe tbody tr th:only-of-type {\n",
              "        vertical-align: middle;\n",
              "    }\n",
              "\n",
              "    .dataframe tbody tr th {\n",
              "        vertical-align: top;\n",
              "    }\n",
              "\n",
              "    .dataframe thead th {\n",
              "        text-align: right;\n",
              "    }\n",
              "</style>\n",
              "<table border=\"1\" class=\"dataframe\">\n",
              "  <thead>\n",
              "    <tr style=\"text-align: right;\">\n",
              "      <th></th>\n",
              "      <th>dropoff_date_difference</th>\n",
              "      <th>pickup_date_difference</th>\n",
              "      <th>origin_to_destination</th>\n",
              "      <th>origin_to_pickup</th>\n",
              "      <th>pickup_to_dropoff</th>\n",
              "      <th>destination_to_dropoff</th>\n",
              "      <th>out_of_way_score</th>\n",
              "      <th>truck_size</th>\n",
              "      <th>load_size</th>\n",
              "      <th>rental_rate</th>\n",
              "      <th>offer_amount</th>\n",
              "      <th>insurance_purchased</th>\n",
              "      <th>renter_verified</th>\n",
              "      <th>success</th>\n",
              "      <th>age</th>\n",
              "    </tr>\n",
              "  </thead>\n",
              "  <tbody>\n",
              "    <tr>\n",
              "      <th>0</th>\n",
              "      <td>7</td>\n",
              "      <td>0</td>\n",
              "      <td>1533</td>\n",
              "      <td>111</td>\n",
              "      <td>685</td>\n",
              "      <td>969</td>\n",
              "      <td>15.14</td>\n",
              "      <td>Small</td>\n",
              "      <td>1</td>\n",
              "      <td>538</td>\n",
              "      <td>35</td>\n",
              "      <td>yes</td>\n",
              "      <td>True</td>\n",
              "      <td>no</td>\n",
              "      <td>61</td>\n",
              "    </tr>\n",
              "    <tr>\n",
              "      <th>1</th>\n",
              "      <td>2</td>\n",
              "      <td>6</td>\n",
              "      <td>2915</td>\n",
              "      <td>192</td>\n",
              "      <td>1933</td>\n",
              "      <td>917</td>\n",
              "      <td>4.37</td>\n",
              "      <td>Large</td>\n",
              "      <td>1</td>\n",
              "      <td>3226</td>\n",
              "      <td>45</td>\n",
              "      <td>yes</td>\n",
              "      <td>True</td>\n",
              "      <td>no</td>\n",
              "      <td>63</td>\n",
              "    </tr>\n",
              "    <tr>\n",
              "      <th>2</th>\n",
              "      <td>6</td>\n",
              "      <td>6</td>\n",
              "      <td>1818</td>\n",
              "      <td>39</td>\n",
              "      <td>1645</td>\n",
              "      <td>185</td>\n",
              "      <td>2.88</td>\n",
              "      <td>Small</td>\n",
              "      <td>1</td>\n",
              "      <td>1123</td>\n",
              "      <td>45</td>\n",
              "      <td>yes</td>\n",
              "      <td>True</td>\n",
              "      <td>no</td>\n",
              "      <td>62</td>\n",
              "    </tr>\n",
              "    <tr>\n",
              "      <th>3</th>\n",
              "      <td>4</td>\n",
              "      <td>1</td>\n",
              "      <td>965</td>\n",
              "      <td>20</td>\n",
              "      <td>985</td>\n",
              "      <td>64</td>\n",
              "      <td>10.97</td>\n",
              "      <td>Large</td>\n",
              "      <td>1</td>\n",
              "      <td>1567</td>\n",
              "      <td>35</td>\n",
              "      <td>yes</td>\n",
              "      <td>True</td>\n",
              "      <td>no</td>\n",
              "      <td>51</td>\n",
              "    </tr>\n",
              "    <tr>\n",
              "      <th>4</th>\n",
              "      <td>6</td>\n",
              "      <td>0</td>\n",
              "      <td>1152</td>\n",
              "      <td>66</td>\n",
              "      <td>743</td>\n",
              "      <td>538</td>\n",
              "      <td>17.02</td>\n",
              "      <td>Small</td>\n",
              "      <td>1</td>\n",
              "      <td>1523</td>\n",
              "      <td>35</td>\n",
              "      <td>yes</td>\n",
              "      <td>True</td>\n",
              "      <td>no</td>\n",
              "      <td>56</td>\n",
              "    </tr>\n",
              "  </tbody>\n",
              "</table>\n",
              "</div>"
            ],
            "text/plain": [
              "   dropoff_date_difference  pickup_date_difference  ...  success  age\n",
              "0                        7                       0  ...       no   61\n",
              "1                        2                       6  ...       no   63\n",
              "2                        6                       6  ...       no   62\n",
              "3                        4                       1  ...       no   51\n",
              "4                        6                       0  ...       no   56\n",
              "\n",
              "[5 rows x 15 columns]"
            ]
          },
          "metadata": {
            "tags": []
          },
          "execution_count": 9
        }
      ]
    },
    {
      "cell_type": "code",
      "metadata": {
        "colab": {
          "base_uri": "https://localhost:8080/",
          "height": 204
        },
        "id": "E-YAaV948CtU",
        "outputId": "dc08f266-778f-40a0-8132-5bc8b7650cc7"
      },
      "source": [
        "# Now we can assess these 4 numeric variables, 'origin_to_destination', 'origin_to_pickup', 'pickup_to_dropoff','destination_to_dropoff'.\n",
        "# We can construct a new variable to show how much extra miles/distances the truck renter has to drive\n",
        "df['dist_diff'] = df.origin_to_pickup + df.pickup_to_dropoff + df.destination_to_dropoff - df.origin_to_destination\n",
        "df.head()"
      ],
      "execution_count": null,
      "outputs": [
        {
          "output_type": "execute_result",
          "data": {
            "text/html": [
              "<div>\n",
              "<style scoped>\n",
              "    .dataframe tbody tr th:only-of-type {\n",
              "        vertical-align: middle;\n",
              "    }\n",
              "\n",
              "    .dataframe tbody tr th {\n",
              "        vertical-align: top;\n",
              "    }\n",
              "\n",
              "    .dataframe thead th {\n",
              "        text-align: right;\n",
              "    }\n",
              "</style>\n",
              "<table border=\"1\" class=\"dataframe\">\n",
              "  <thead>\n",
              "    <tr style=\"text-align: right;\">\n",
              "      <th></th>\n",
              "      <th>dropoff_date_difference</th>\n",
              "      <th>pickup_date_difference</th>\n",
              "      <th>origin_to_destination</th>\n",
              "      <th>origin_to_pickup</th>\n",
              "      <th>pickup_to_dropoff</th>\n",
              "      <th>destination_to_dropoff</th>\n",
              "      <th>out_of_way_score</th>\n",
              "      <th>truck_size</th>\n",
              "      <th>load_size</th>\n",
              "      <th>rental_rate</th>\n",
              "      <th>offer_amount</th>\n",
              "      <th>insurance_purchased</th>\n",
              "      <th>renter_verified</th>\n",
              "      <th>success</th>\n",
              "      <th>age</th>\n",
              "      <th>dist_diff</th>\n",
              "    </tr>\n",
              "  </thead>\n",
              "  <tbody>\n",
              "    <tr>\n",
              "      <th>0</th>\n",
              "      <td>7</td>\n",
              "      <td>0</td>\n",
              "      <td>1533</td>\n",
              "      <td>111</td>\n",
              "      <td>685</td>\n",
              "      <td>969</td>\n",
              "      <td>15.14</td>\n",
              "      <td>Small</td>\n",
              "      <td>1</td>\n",
              "      <td>538</td>\n",
              "      <td>35</td>\n",
              "      <td>yes</td>\n",
              "      <td>True</td>\n",
              "      <td>no</td>\n",
              "      <td>61</td>\n",
              "      <td>232</td>\n",
              "    </tr>\n",
              "    <tr>\n",
              "      <th>1</th>\n",
              "      <td>2</td>\n",
              "      <td>6</td>\n",
              "      <td>2915</td>\n",
              "      <td>192</td>\n",
              "      <td>1933</td>\n",
              "      <td>917</td>\n",
              "      <td>4.37</td>\n",
              "      <td>Large</td>\n",
              "      <td>1</td>\n",
              "      <td>3226</td>\n",
              "      <td>45</td>\n",
              "      <td>yes</td>\n",
              "      <td>True</td>\n",
              "      <td>no</td>\n",
              "      <td>63</td>\n",
              "      <td>127</td>\n",
              "    </tr>\n",
              "    <tr>\n",
              "      <th>2</th>\n",
              "      <td>6</td>\n",
              "      <td>6</td>\n",
              "      <td>1818</td>\n",
              "      <td>39</td>\n",
              "      <td>1645</td>\n",
              "      <td>185</td>\n",
              "      <td>2.88</td>\n",
              "      <td>Small</td>\n",
              "      <td>1</td>\n",
              "      <td>1123</td>\n",
              "      <td>45</td>\n",
              "      <td>yes</td>\n",
              "      <td>True</td>\n",
              "      <td>no</td>\n",
              "      <td>62</td>\n",
              "      <td>51</td>\n",
              "    </tr>\n",
              "    <tr>\n",
              "      <th>3</th>\n",
              "      <td>4</td>\n",
              "      <td>1</td>\n",
              "      <td>965</td>\n",
              "      <td>20</td>\n",
              "      <td>985</td>\n",
              "      <td>64</td>\n",
              "      <td>10.97</td>\n",
              "      <td>Large</td>\n",
              "      <td>1</td>\n",
              "      <td>1567</td>\n",
              "      <td>35</td>\n",
              "      <td>yes</td>\n",
              "      <td>True</td>\n",
              "      <td>no</td>\n",
              "      <td>51</td>\n",
              "      <td>104</td>\n",
              "    </tr>\n",
              "    <tr>\n",
              "      <th>4</th>\n",
              "      <td>6</td>\n",
              "      <td>0</td>\n",
              "      <td>1152</td>\n",
              "      <td>66</td>\n",
              "      <td>743</td>\n",
              "      <td>538</td>\n",
              "      <td>17.02</td>\n",
              "      <td>Small</td>\n",
              "      <td>1</td>\n",
              "      <td>1523</td>\n",
              "      <td>35</td>\n",
              "      <td>yes</td>\n",
              "      <td>True</td>\n",
              "      <td>no</td>\n",
              "      <td>56</td>\n",
              "      <td>195</td>\n",
              "    </tr>\n",
              "  </tbody>\n",
              "</table>\n",
              "</div>"
            ],
            "text/plain": [
              "   dropoff_date_difference  pickup_date_difference  ...  age  dist_diff\n",
              "0                        7                       0  ...   61        232\n",
              "1                        2                       6  ...   63        127\n",
              "2                        6                       6  ...   62         51\n",
              "3                        4                       1  ...   51        104\n",
              "4                        6                       0  ...   56        195\n",
              "\n",
              "[5 rows x 16 columns]"
            ]
          },
          "metadata": {
            "tags": []
          },
          "execution_count": 10
        }
      ]
    },
    {
      "cell_type": "code",
      "metadata": {
        "colab": {
          "base_uri": "https://localhost:8080/",
          "height": 204
        },
        "id": "8rW8wdBA8ynP",
        "outputId": "2b53c915-1b47-4de1-dc37-304ed4841c0b"
      },
      "source": [
        "# There are 37 entries with negtive values.\n",
        "# But the smallest entry we could get is 0, that's when the boxes' pickup and dropoff locations are both on the driver's way. So those negative entires may not be valid.\n",
        "# At this point, I think it would be resonable to drop those entries, unless there'are other evidence suggests they are possible.\n",
        "df[df.dist_diff < 0].head()"
      ],
      "execution_count": null,
      "outputs": [
        {
          "output_type": "execute_result",
          "data": {
            "text/html": [
              "<div>\n",
              "<style scoped>\n",
              "    .dataframe tbody tr th:only-of-type {\n",
              "        vertical-align: middle;\n",
              "    }\n",
              "\n",
              "    .dataframe tbody tr th {\n",
              "        vertical-align: top;\n",
              "    }\n",
              "\n",
              "    .dataframe thead th {\n",
              "        text-align: right;\n",
              "    }\n",
              "</style>\n",
              "<table border=\"1\" class=\"dataframe\">\n",
              "  <thead>\n",
              "    <tr style=\"text-align: right;\">\n",
              "      <th></th>\n",
              "      <th>dropoff_date_difference</th>\n",
              "      <th>pickup_date_difference</th>\n",
              "      <th>origin_to_destination</th>\n",
              "      <th>origin_to_pickup</th>\n",
              "      <th>pickup_to_dropoff</th>\n",
              "      <th>destination_to_dropoff</th>\n",
              "      <th>out_of_way_score</th>\n",
              "      <th>truck_size</th>\n",
              "      <th>load_size</th>\n",
              "      <th>rental_rate</th>\n",
              "      <th>offer_amount</th>\n",
              "      <th>insurance_purchased</th>\n",
              "      <th>renter_verified</th>\n",
              "      <th>success</th>\n",
              "      <th>age</th>\n",
              "      <th>dist_diff</th>\n",
              "    </tr>\n",
              "  </thead>\n",
              "  <tbody>\n",
              "    <tr>\n",
              "      <th>23</th>\n",
              "      <td>7</td>\n",
              "      <td>1</td>\n",
              "      <td>799</td>\n",
              "      <td>8</td>\n",
              "      <td>780</td>\n",
              "      <td>7</td>\n",
              "      <td>-0.34</td>\n",
              "      <td>Small</td>\n",
              "      <td>1</td>\n",
              "      <td>1148</td>\n",
              "      <td>35</td>\n",
              "      <td>yes</td>\n",
              "      <td>True</td>\n",
              "      <td>no</td>\n",
              "      <td>69</td>\n",
              "      <td>-4</td>\n",
              "    </tr>\n",
              "    <tr>\n",
              "      <th>65</th>\n",
              "      <td>7</td>\n",
              "      <td>1</td>\n",
              "      <td>2344</td>\n",
              "      <td>74</td>\n",
              "      <td>1116</td>\n",
              "      <td>1126</td>\n",
              "      <td>-1.11</td>\n",
              "      <td>Large</td>\n",
              "      <td>1</td>\n",
              "      <td>629</td>\n",
              "      <td>40</td>\n",
              "      <td>yes</td>\n",
              "      <td>False</td>\n",
              "      <td>no</td>\n",
              "      <td>73</td>\n",
              "      <td>-28</td>\n",
              "    </tr>\n",
              "    <tr>\n",
              "      <th>99</th>\n",
              "      <td>7</td>\n",
              "      <td>1</td>\n",
              "      <td>3043</td>\n",
              "      <td>362</td>\n",
              "      <td>2627</td>\n",
              "      <td>0</td>\n",
              "      <td>-1.75</td>\n",
              "      <td>Large</td>\n",
              "      <td>1</td>\n",
              "      <td>2073</td>\n",
              "      <td>50</td>\n",
              "      <td>yes</td>\n",
              "      <td>True</td>\n",
              "      <td>no</td>\n",
              "      <td>40</td>\n",
              "      <td>-54</td>\n",
              "    </tr>\n",
              "    <tr>\n",
              "      <th>100</th>\n",
              "      <td>7</td>\n",
              "      <td>1</td>\n",
              "      <td>3043</td>\n",
              "      <td>362</td>\n",
              "      <td>2627</td>\n",
              "      <td>0</td>\n",
              "      <td>-1.75</td>\n",
              "      <td>Large</td>\n",
              "      <td>1</td>\n",
              "      <td>2030</td>\n",
              "      <td>50</td>\n",
              "      <td>yes</td>\n",
              "      <td>True</td>\n",
              "      <td>no</td>\n",
              "      <td>40</td>\n",
              "      <td>-54</td>\n",
              "    </tr>\n",
              "    <tr>\n",
              "      <th>130</th>\n",
              "      <td>5</td>\n",
              "      <td>0</td>\n",
              "      <td>561</td>\n",
              "      <td>331</td>\n",
              "      <td>151</td>\n",
              "      <td>38</td>\n",
              "      <td>-6.96</td>\n",
              "      <td>Small</td>\n",
              "      <td>1</td>\n",
              "      <td>608</td>\n",
              "      <td>25</td>\n",
              "      <td>NONE</td>\n",
              "      <td>True</td>\n",
              "      <td>no</td>\n",
              "      <td>54</td>\n",
              "      <td>-41</td>\n",
              "    </tr>\n",
              "  </tbody>\n",
              "</table>\n",
              "</div>"
            ],
            "text/plain": [
              "     dropoff_date_difference  pickup_date_difference  ...  age  dist_diff\n",
              "23                         7                       1  ...   69         -4\n",
              "65                         7                       1  ...   73        -28\n",
              "99                         7                       1  ...   40        -54\n",
              "100                        7                       1  ...   40        -54\n",
              "130                        5                       0  ...   54        -41\n",
              "\n",
              "[5 rows x 16 columns]"
            ]
          },
          "metadata": {
            "tags": []
          },
          "execution_count": 11
        }
      ]
    },
    {
      "cell_type": "code",
      "metadata": {
        "colab": {
          "base_uri": "https://localhost:8080/"
        },
        "id": "Y3PsLj1R8y1Z",
        "outputId": "e02e1714-1fa7-446e-ab64-b67363cfb9f7"
      },
      "source": [
        "df[df.dist_diff < 0].shape[0]"
      ],
      "execution_count": null,
      "outputs": [
        {
          "output_type": "execute_result",
          "data": {
            "text/plain": [
              "37"
            ]
          },
          "metadata": {
            "tags": []
          },
          "execution_count": 12
        }
      ]
    },
    {
      "cell_type": "code",
      "metadata": {
        "colab": {
          "base_uri": "https://localhost:8080/"
        },
        "id": "D7uKcqBfM59m",
        "outputId": "68489201-eba5-4319-a2d8-2ff645b3ad52"
      },
      "source": [
        "df = df[df.dist_diff >=0]\n",
        "df.shape"
      ],
      "execution_count": null,
      "outputs": [
        {
          "output_type": "execute_result",
          "data": {
            "text/plain": [
              "(963, 16)"
            ]
          },
          "metadata": {
            "tags": []
          },
          "execution_count": 13
        }
      ]
    },
    {
      "cell_type": "markdown",
      "metadata": {
        "id": "VUM-rB28sJWa"
      },
      "source": [
        "**2.3 Inspect the numeric variable: 'drop_off_date_difference' and 'pick_up_date_difference'**"
      ]
    },
    {
      "cell_type": "code",
      "metadata": {
        "colab": {
          "base_uri": "https://localhost:8080/"
        },
        "id": "ACtYza5msbDX",
        "outputId": "6603377e-81f9-400a-aaed-14fac899dbbb"
      },
      "source": [
        "df.dropoff_date_difference.describe()"
      ],
      "execution_count": null,
      "outputs": [
        {
          "output_type": "execute_result",
          "data": {
            "text/plain": [
              "count    963.000000\n",
              "mean       5.365524\n",
              "std        4.611219\n",
              "min        0.000000\n",
              "25%        2.000000\n",
              "50%        5.000000\n",
              "75%        7.000000\n",
              "max       40.000000\n",
              "Name: dropoff_date_difference, dtype: float64"
            ]
          },
          "metadata": {
            "tags": []
          },
          "execution_count": 14
        }
      ]
    },
    {
      "cell_type": "code",
      "metadata": {
        "colab": {
          "base_uri": "https://localhost:8080/"
        },
        "id": "HCNgjBgesbVs",
        "outputId": "261e1f48-378b-4986-9ea4-166f3ce53965"
      },
      "source": [
        "df.pickup_date_difference.describe()"
      ],
      "execution_count": null,
      "outputs": [
        {
          "output_type": "execute_result",
          "data": {
            "text/plain": [
              "count    963.000000\n",
              "mean       2.466251\n",
              "std        1.804261\n",
              "min        0.000000\n",
              "25%        1.000000\n",
              "50%        2.000000\n",
              "75%        4.000000\n",
              "max        8.000000\n",
              "Name: pickup_date_difference, dtype: float64"
            ]
          },
          "metadata": {
            "tags": []
          },
          "execution_count": 15
        }
      ]
    },
    {
      "cell_type": "code",
      "metadata": {
        "id": "v6Giejg8sbiv"
      },
      "source": [
        "# Combine them into a single feature 'drop_pick_date_diff'\n",
        "df['drop_pick_date_diff'] = df.dropoff_date_difference + df.pickup_date_difference"
      ],
      "execution_count": null,
      "outputs": []
    },
    {
      "cell_type": "markdown",
      "metadata": {
        "id": "Zf1iHM8vqOPd"
      },
      "source": [
        "**2.4 Inspect categorical and boolean variables: 'truck_size', 'load_size', 'renter_verified', 'insurance_purchased' and 'success'**"
      ]
    },
    {
      "cell_type": "code",
      "metadata": {
        "colab": {
          "base_uri": "https://localhost:8080/"
        },
        "id": "kOlroJhkofMQ",
        "outputId": "224b0ef8-c6b0-4db9-a086-96548d8aaa54"
      },
      "source": [
        "df.truck_size.value_counts()"
      ],
      "execution_count": null,
      "outputs": [
        {
          "output_type": "execute_result",
          "data": {
            "text/plain": [
              "Small           535\n",
              "Large           406\n",
              "not_reported     22\n",
              "Name: truck_size, dtype: int64"
            ]
          },
          "metadata": {
            "tags": []
          },
          "execution_count": 17
        }
      ]
    },
    {
      "cell_type": "code",
      "metadata": {
        "colab": {
          "base_uri": "https://localhost:8080/"
        },
        "id": "gx3V9rkZGaUO",
        "outputId": "c81dabae-1c69-48bd-a2c7-853012180807"
      },
      "source": [
        "df.load_size.value_counts()\n",
        "# 'load_size' was not described in the feature description."
      ],
      "execution_count": null,
      "outputs": [
        {
          "output_type": "execute_result",
          "data": {
            "text/plain": [
              "1    788\n",
              "2    175\n",
              "Name: load_size, dtype: int64"
            ]
          },
          "metadata": {
            "tags": []
          },
          "execution_count": 18
        }
      ]
    },
    {
      "cell_type": "code",
      "metadata": {
        "colab": {
          "base_uri": "https://localhost:8080/"
        },
        "id": "3SLCH21Qz0Sz",
        "outputId": "9946f06a-41be-400a-9cff-9dc0407aa066"
      },
      "source": [
        "df.renter_verified.value_counts()"
      ],
      "execution_count": null,
      "outputs": [
        {
          "output_type": "execute_result",
          "data": {
            "text/plain": [
              "True     608\n",
              "False    355\n",
              "Name: renter_verified, dtype: int64"
            ]
          },
          "metadata": {
            "tags": []
          },
          "execution_count": 19
        }
      ]
    },
    {
      "cell_type": "code",
      "metadata": {
        "colab": {
          "base_uri": "https://localhost:8080/"
        },
        "id": "kH0E0GABz0c0",
        "outputId": "899f4b91-bba9-42f9-e51b-aa376150fc7d"
      },
      "source": [
        "df.insurance_purchased.value_counts()"
      ],
      "execution_count": null,
      "outputs": [
        {
          "output_type": "execute_result",
          "data": {
            "text/plain": [
              "yes     794\n",
              "NONE    169\n",
              "Name: insurance_purchased, dtype: int64"
            ]
          },
          "metadata": {
            "tags": []
          },
          "execution_count": 20
        }
      ]
    },
    {
      "cell_type": "code",
      "metadata": {
        "colab": {
          "base_uri": "https://localhost:8080/"
        },
        "id": "EwKC1yR0z0ug",
        "outputId": "51baa96b-c198-4477-878c-597f7caa0e2a"
      },
      "source": [
        "df.success.value_counts()"
      ],
      "execution_count": null,
      "outputs": [
        {
          "output_type": "execute_result",
          "data": {
            "text/plain": [
              "no     860\n",
              "yes    103\n",
              "Name: success, dtype: int64"
            ]
          },
          "metadata": {
            "tags": []
          },
          "execution_count": 21
        }
      ]
    },
    {
      "cell_type": "markdown",
      "metadata": {
        "id": "2ltboV21-ler"
      },
      "source": [
        "**As we can see, the target variable is hightly unbalanced, which must be addressed**"
      ]
    },
    {
      "cell_type": "code",
      "metadata": {
        "id": "_h9bpDsqzxyu"
      },
      "source": [
        "# Label encode variables\n",
        "cols = ['truck_size', 'renter_verified', 'insurance_purchased', 'success']\n",
        "\n",
        "for col in cols:\n",
        "  df[col] = df[col].astype('category').cat.codes"
      ],
      "execution_count": null,
      "outputs": []
    },
    {
      "cell_type": "code",
      "metadata": {
        "colab": {
          "base_uri": "https://localhost:8080/"
        },
        "id": "_p3onxM50Ew8",
        "outputId": "2a0dc36f-06f5-41bc-ccc8-9b844f1353fc"
      },
      "source": [
        "df.truck_size.value_counts()"
      ],
      "execution_count": null,
      "outputs": [
        {
          "output_type": "execute_result",
          "data": {
            "text/plain": [
              "1    535\n",
              "0    406\n",
              "2     22\n",
              "Name: truck_size, dtype: int64"
            ]
          },
          "metadata": {
            "tags": []
          },
          "execution_count": 23
        }
      ]
    },
    {
      "cell_type": "code",
      "metadata": {
        "colab": {
          "base_uri": "https://localhost:8080/"
        },
        "id": "bqDPxk6-YCQa",
        "outputId": "8f596af0-3548-409c-b5d7-6ce30511c985"
      },
      "source": [
        "# impute NaN with mode = 'Small'\n",
        "df['truck_size'] = np.where(df.truck_size == 2, 1, df.truck_size)\n",
        "df.truck_size.value_counts()"
      ],
      "execution_count": null,
      "outputs": [
        {
          "output_type": "execute_result",
          "data": {
            "text/plain": [
              "1    557\n",
              "0    406\n",
              "Name: truck_size, dtype: int64"
            ]
          },
          "metadata": {
            "tags": []
          },
          "execution_count": 24
        }
      ]
    },
    {
      "cell_type": "markdown",
      "metadata": {
        "id": "-Y-SlaLs0hcG"
      },
      "source": [
        "Label encoded 'truck_size': 'Small': 1, 'Large': 0\n"
      ]
    },
    {
      "cell_type": "code",
      "metadata": {
        "colab": {
          "base_uri": "https://localhost:8080/"
        },
        "id": "hwdM6j-O0FLc",
        "outputId": "3651b4ea-515e-4f59-cbb6-76162e973216"
      },
      "source": [
        "df.renter_verified.value_counts()"
      ],
      "execution_count": null,
      "outputs": [
        {
          "output_type": "execute_result",
          "data": {
            "text/plain": [
              "1    608\n",
              "0    355\n",
              "Name: renter_verified, dtype: int64"
            ]
          },
          "metadata": {
            "tags": []
          },
          "execution_count": 25
        }
      ]
    },
    {
      "cell_type": "markdown",
      "metadata": {
        "id": "SIgEXl4n0viV"
      },
      "source": [
        "Label encoded 'renter_verified': True: 1, False: 0"
      ]
    },
    {
      "cell_type": "code",
      "metadata": {
        "colab": {
          "base_uri": "https://localhost:8080/"
        },
        "id": "4qlSrHLQ0Fal",
        "outputId": "171c4323-bd97-4885-820e-71d84cbb7598"
      },
      "source": [
        "df.insurance_purchased.value_counts()"
      ],
      "execution_count": null,
      "outputs": [
        {
          "output_type": "execute_result",
          "data": {
            "text/plain": [
              "1    794\n",
              "0    169\n",
              "Name: insurance_purchased, dtype: int64"
            ]
          },
          "metadata": {
            "tags": []
          },
          "execution_count": 26
        }
      ]
    },
    {
      "cell_type": "markdown",
      "metadata": {
        "id": "Ug6yeZ-108pf"
      },
      "source": [
        "Label encoded 'insurance_purchased': 'yes': 1, 'NONE': 0"
      ]
    },
    {
      "cell_type": "code",
      "metadata": {
        "colab": {
          "base_uri": "https://localhost:8080/"
        },
        "id": "KfH8uWQzx_l-",
        "outputId": "ec7cec91-39d9-4688-bb15-cc5342c62f6f"
      },
      "source": [
        "df.success.value_counts()"
      ],
      "execution_count": null,
      "outputs": [
        {
          "output_type": "execute_result",
          "data": {
            "text/plain": [
              "0    860\n",
              "1    103\n",
              "Name: success, dtype: int64"
            ]
          },
          "metadata": {
            "tags": []
          },
          "execution_count": 27
        }
      ]
    },
    {
      "cell_type": "code",
      "metadata": {
        "colab": {
          "base_uri": "https://localhost:8080/"
        },
        "id": "z8NsOVIz8Q6i",
        "outputId": "9ad9a6e9-43f7-4361-ae45-7853e10ebe9d"
      },
      "source": [
        "1 - np.sum(df.success)/len(df.success)"
      ],
      "execution_count": null,
      "outputs": [
        {
          "output_type": "execute_result",
          "data": {
            "text/plain": [
              "0.893042575285566"
            ]
          },
          "metadata": {
            "tags": []
          },
          "execution_count": 28
        }
      ]
    },
    {
      "cell_type": "markdown",
      "metadata": {
        "id": "c21Un90iyQVW"
      },
      "source": [
        "Label encoded 'success': 'yes': 1, 'no: 0.\n",
        "As shown above, the target variable 'success' is highly imbalanced.\n"
      ]
    },
    {
      "cell_type": "code",
      "metadata": {
        "colab": {
          "base_uri": "https://localhost:8080/",
          "height": 204
        },
        "id": "TPdqzP5S_Fjd",
        "outputId": "ea647d62-698c-438f-a03c-be5e58904377"
      },
      "source": [
        "df.head()"
      ],
      "execution_count": null,
      "outputs": [
        {
          "output_type": "execute_result",
          "data": {
            "text/html": [
              "<div>\n",
              "<style scoped>\n",
              "    .dataframe tbody tr th:only-of-type {\n",
              "        vertical-align: middle;\n",
              "    }\n",
              "\n",
              "    .dataframe tbody tr th {\n",
              "        vertical-align: top;\n",
              "    }\n",
              "\n",
              "    .dataframe thead th {\n",
              "        text-align: right;\n",
              "    }\n",
              "</style>\n",
              "<table border=\"1\" class=\"dataframe\">\n",
              "  <thead>\n",
              "    <tr style=\"text-align: right;\">\n",
              "      <th></th>\n",
              "      <th>dropoff_date_difference</th>\n",
              "      <th>pickup_date_difference</th>\n",
              "      <th>origin_to_destination</th>\n",
              "      <th>origin_to_pickup</th>\n",
              "      <th>pickup_to_dropoff</th>\n",
              "      <th>destination_to_dropoff</th>\n",
              "      <th>out_of_way_score</th>\n",
              "      <th>truck_size</th>\n",
              "      <th>load_size</th>\n",
              "      <th>rental_rate</th>\n",
              "      <th>offer_amount</th>\n",
              "      <th>insurance_purchased</th>\n",
              "      <th>renter_verified</th>\n",
              "      <th>success</th>\n",
              "      <th>age</th>\n",
              "      <th>dist_diff</th>\n",
              "      <th>drop_pick_date_diff</th>\n",
              "    </tr>\n",
              "  </thead>\n",
              "  <tbody>\n",
              "    <tr>\n",
              "      <th>0</th>\n",
              "      <td>7</td>\n",
              "      <td>0</td>\n",
              "      <td>1533</td>\n",
              "      <td>111</td>\n",
              "      <td>685</td>\n",
              "      <td>969</td>\n",
              "      <td>15.14</td>\n",
              "      <td>1</td>\n",
              "      <td>1</td>\n",
              "      <td>538</td>\n",
              "      <td>35</td>\n",
              "      <td>1</td>\n",
              "      <td>1</td>\n",
              "      <td>0</td>\n",
              "      <td>61</td>\n",
              "      <td>232</td>\n",
              "      <td>7</td>\n",
              "    </tr>\n",
              "    <tr>\n",
              "      <th>1</th>\n",
              "      <td>2</td>\n",
              "      <td>6</td>\n",
              "      <td>2915</td>\n",
              "      <td>192</td>\n",
              "      <td>1933</td>\n",
              "      <td>917</td>\n",
              "      <td>4.37</td>\n",
              "      <td>0</td>\n",
              "      <td>1</td>\n",
              "      <td>3226</td>\n",
              "      <td>45</td>\n",
              "      <td>1</td>\n",
              "      <td>1</td>\n",
              "      <td>0</td>\n",
              "      <td>63</td>\n",
              "      <td>127</td>\n",
              "      <td>8</td>\n",
              "    </tr>\n",
              "    <tr>\n",
              "      <th>2</th>\n",
              "      <td>6</td>\n",
              "      <td>6</td>\n",
              "      <td>1818</td>\n",
              "      <td>39</td>\n",
              "      <td>1645</td>\n",
              "      <td>185</td>\n",
              "      <td>2.88</td>\n",
              "      <td>1</td>\n",
              "      <td>1</td>\n",
              "      <td>1123</td>\n",
              "      <td>45</td>\n",
              "      <td>1</td>\n",
              "      <td>1</td>\n",
              "      <td>0</td>\n",
              "      <td>62</td>\n",
              "      <td>51</td>\n",
              "      <td>12</td>\n",
              "    </tr>\n",
              "    <tr>\n",
              "      <th>3</th>\n",
              "      <td>4</td>\n",
              "      <td>1</td>\n",
              "      <td>965</td>\n",
              "      <td>20</td>\n",
              "      <td>985</td>\n",
              "      <td>64</td>\n",
              "      <td>10.97</td>\n",
              "      <td>0</td>\n",
              "      <td>1</td>\n",
              "      <td>1567</td>\n",
              "      <td>35</td>\n",
              "      <td>1</td>\n",
              "      <td>1</td>\n",
              "      <td>0</td>\n",
              "      <td>51</td>\n",
              "      <td>104</td>\n",
              "      <td>5</td>\n",
              "    </tr>\n",
              "    <tr>\n",
              "      <th>4</th>\n",
              "      <td>6</td>\n",
              "      <td>0</td>\n",
              "      <td>1152</td>\n",
              "      <td>66</td>\n",
              "      <td>743</td>\n",
              "      <td>538</td>\n",
              "      <td>17.02</td>\n",
              "      <td>1</td>\n",
              "      <td>1</td>\n",
              "      <td>1523</td>\n",
              "      <td>35</td>\n",
              "      <td>1</td>\n",
              "      <td>1</td>\n",
              "      <td>0</td>\n",
              "      <td>56</td>\n",
              "      <td>195</td>\n",
              "      <td>6</td>\n",
              "    </tr>\n",
              "  </tbody>\n",
              "</table>\n",
              "</div>"
            ],
            "text/plain": [
              "   dropoff_date_difference  ...  drop_pick_date_diff\n",
              "0                        7  ...                    7\n",
              "1                        2  ...                    8\n",
              "2                        6  ...                   12\n",
              "3                        4  ...                    5\n",
              "4                        6  ...                    6\n",
              "\n",
              "[5 rows x 17 columns]"
            ]
          },
          "metadata": {
            "tags": []
          },
          "execution_count": 29
        }
      ]
    },
    {
      "cell_type": "code",
      "metadata": {
        "id": "O5WKsuXXs_lF"
      },
      "source": [
        "# Select the engineered features to a new dataframe\n",
        "#df1 = df.loc[:, ['out_of_way_score', 'truck_size', 'load_size', 'rental_rate', 'offer_amount', 'insurance_purchased', 'renter_verified', 'age', 'dist_diff', 'drop_pick_date_diff', 'success']]"
      ],
      "execution_count": null,
      "outputs": []
    },
    {
      "cell_type": "code",
      "metadata": {
        "colab": {
          "base_uri": "https://localhost:8080/"
        },
        "id": "K2RPSrKFuN_t",
        "outputId": "349f959a-bb88-4c97-c81e-0bc919404452"
      },
      "source": [
        "df1 = df.copy()\n",
        "df1.shape"
      ],
      "execution_count": null,
      "outputs": [
        {
          "output_type": "execute_result",
          "data": {
            "text/plain": [
              "(963, 17)"
            ]
          },
          "metadata": {
            "tags": []
          },
          "execution_count": 31
        }
      ]
    },
    {
      "cell_type": "markdown",
      "metadata": {
        "id": "TTumm4lWoGPn"
      },
      "source": [
        "# 3. Exploratory Data Analysis"
      ]
    },
    {
      "cell_type": "markdown",
      "metadata": {
        "id": "PVFQ5uVCpNLn"
      },
      "source": [
        "**3.1 Analyze features, binning and label encoding**\n",
        "- As we have converted all the category features to numeric, let's further exam those features and perform encoding if necessary."
      ]
    },
    {
      "cell_type": "code",
      "metadata": {
        "colab": {
          "base_uri": "https://localhost:8080/"
        },
        "id": "FnitzthQ_FvN",
        "outputId": "461f4ee0-f216-4ba9-cbd3-f47815bf1832"
      },
      "source": [
        "# Features:\n",
        "df1.columns.values.tolist()"
      ],
      "execution_count": null,
      "outputs": [
        {
          "output_type": "execute_result",
          "data": {
            "text/plain": [
              "['dropoff_date_difference',\n",
              " 'pickup_date_difference',\n",
              " 'origin_to_destination',\n",
              " 'origin_to_pickup',\n",
              " 'pickup_to_dropoff',\n",
              " 'destination_to_dropoff',\n",
              " 'out_of_way_score',\n",
              " 'truck_size',\n",
              " 'load_size',\n",
              " 'rental_rate',\n",
              " 'offer_amount',\n",
              " 'insurance_purchased',\n",
              " 'renter_verified',\n",
              " 'success',\n",
              " 'age',\n",
              " 'dist_diff',\n",
              " 'drop_pick_date_diff']"
            ]
          },
          "metadata": {
            "tags": []
          },
          "execution_count": 32
        }
      ]
    },
    {
      "cell_type": "code",
      "metadata": {
        "colab": {
          "base_uri": "https://localhost:8080/"
        },
        "id": "k4F-4FtFS-HC",
        "outputId": "7dccc85b-a2d9-4743-ec80-b90dbe1ea4b5"
      },
      "source": [
        "# Analyze 'age'\n",
        "df1.age.describe()"
      ],
      "execution_count": null,
      "outputs": [
        {
          "output_type": "execute_result",
          "data": {
            "text/plain": [
              "count    963.000000\n",
              "mean      48.753894\n",
              "std       14.556317\n",
              "min       19.000000\n",
              "25%       36.000000\n",
              "50%       51.000000\n",
              "75%       60.000000\n",
              "max       83.000000\n",
              "Name: age, dtype: float64"
            ]
          },
          "metadata": {
            "tags": []
          },
          "execution_count": 33
        }
      ]
    },
    {
      "cell_type": "code",
      "metadata": {
        "id": "FN-RWiJEWmfi"
      },
      "source": [
        "# convert 'age' to 'agerange'\n",
        "bins_age = [0, 30, 40, 50, 60, np.inf]\n",
        "names_age = ['< 30', '30-40', '40-50', '50-60', '60+']\n",
        "df1['agerange'] = pd.cut(df1['age'], bins_age, labels=names_age)\n",
        "#bins2 = [0, 36, 51, 75, np.inf]\n",
        "#names2 = ['<36', '36-51', '51-75', '75+']\n",
        "#df['agerange2'] = pd.cut(df['age'], bins2, labels=names2)"
      ],
      "execution_count": null,
      "outputs": []
    },
    {
      "cell_type": "code",
      "metadata": {
        "colab": {
          "base_uri": "https://localhost:8080/"
        },
        "id": "o_QDNaFcx6x6",
        "outputId": "44d53f54-750b-4751-ec66-9d9afda84ea7"
      },
      "source": [
        "df1.drop_pick_date_diff.describe()"
      ],
      "execution_count": null,
      "outputs": [
        {
          "output_type": "execute_result",
          "data": {
            "text/plain": [
              "count    963.000000\n",
              "mean       7.831776\n",
              "std        4.297989\n",
              "min        1.000000\n",
              "25%        5.000000\n",
              "50%        7.000000\n",
              "75%        9.000000\n",
              "max       42.000000\n",
              "Name: drop_pick_date_diff, dtype: float64"
            ]
          },
          "metadata": {
            "tags": []
          },
          "execution_count": 35
        }
      ]
    },
    {
      "cell_type": "code",
      "metadata": {
        "colab": {
          "base_uri": "https://localhost:8080/",
          "height": 224
        },
        "id": "bcxAdjgzcMy-",
        "outputId": "25001952-8ae1-4040-9d85-3248086e5061"
      },
      "source": [
        "# convert 'drop_pick_date_difference' to 'drop_pick_date_range'\n",
        "bins_date = [0, 5, 10, np.inf]\n",
        "names_date = ['< 5', '5-10', '10+']\n",
        "df1['drop_pick_date_range'] = pd.cut(df1['drop_pick_date_diff'], bins_date, labels=names_date)\n",
        "df1.head()"
      ],
      "execution_count": null,
      "outputs": [
        {
          "output_type": "execute_result",
          "data": {
            "text/html": [
              "<div>\n",
              "<style scoped>\n",
              "    .dataframe tbody tr th:only-of-type {\n",
              "        vertical-align: middle;\n",
              "    }\n",
              "\n",
              "    .dataframe tbody tr th {\n",
              "        vertical-align: top;\n",
              "    }\n",
              "\n",
              "    .dataframe thead th {\n",
              "        text-align: right;\n",
              "    }\n",
              "</style>\n",
              "<table border=\"1\" class=\"dataframe\">\n",
              "  <thead>\n",
              "    <tr style=\"text-align: right;\">\n",
              "      <th></th>\n",
              "      <th>dropoff_date_difference</th>\n",
              "      <th>pickup_date_difference</th>\n",
              "      <th>origin_to_destination</th>\n",
              "      <th>origin_to_pickup</th>\n",
              "      <th>pickup_to_dropoff</th>\n",
              "      <th>destination_to_dropoff</th>\n",
              "      <th>out_of_way_score</th>\n",
              "      <th>truck_size</th>\n",
              "      <th>load_size</th>\n",
              "      <th>rental_rate</th>\n",
              "      <th>offer_amount</th>\n",
              "      <th>insurance_purchased</th>\n",
              "      <th>renter_verified</th>\n",
              "      <th>success</th>\n",
              "      <th>age</th>\n",
              "      <th>dist_diff</th>\n",
              "      <th>drop_pick_date_diff</th>\n",
              "      <th>agerange</th>\n",
              "      <th>drop_pick_date_range</th>\n",
              "    </tr>\n",
              "  </thead>\n",
              "  <tbody>\n",
              "    <tr>\n",
              "      <th>0</th>\n",
              "      <td>7</td>\n",
              "      <td>0</td>\n",
              "      <td>1533</td>\n",
              "      <td>111</td>\n",
              "      <td>685</td>\n",
              "      <td>969</td>\n",
              "      <td>15.14</td>\n",
              "      <td>1</td>\n",
              "      <td>1</td>\n",
              "      <td>538</td>\n",
              "      <td>35</td>\n",
              "      <td>1</td>\n",
              "      <td>1</td>\n",
              "      <td>0</td>\n",
              "      <td>61</td>\n",
              "      <td>232</td>\n",
              "      <td>7</td>\n",
              "      <td>60+</td>\n",
              "      <td>5-10</td>\n",
              "    </tr>\n",
              "    <tr>\n",
              "      <th>1</th>\n",
              "      <td>2</td>\n",
              "      <td>6</td>\n",
              "      <td>2915</td>\n",
              "      <td>192</td>\n",
              "      <td>1933</td>\n",
              "      <td>917</td>\n",
              "      <td>4.37</td>\n",
              "      <td>0</td>\n",
              "      <td>1</td>\n",
              "      <td>3226</td>\n",
              "      <td>45</td>\n",
              "      <td>1</td>\n",
              "      <td>1</td>\n",
              "      <td>0</td>\n",
              "      <td>63</td>\n",
              "      <td>127</td>\n",
              "      <td>8</td>\n",
              "      <td>60+</td>\n",
              "      <td>5-10</td>\n",
              "    </tr>\n",
              "    <tr>\n",
              "      <th>2</th>\n",
              "      <td>6</td>\n",
              "      <td>6</td>\n",
              "      <td>1818</td>\n",
              "      <td>39</td>\n",
              "      <td>1645</td>\n",
              "      <td>185</td>\n",
              "      <td>2.88</td>\n",
              "      <td>1</td>\n",
              "      <td>1</td>\n",
              "      <td>1123</td>\n",
              "      <td>45</td>\n",
              "      <td>1</td>\n",
              "      <td>1</td>\n",
              "      <td>0</td>\n",
              "      <td>62</td>\n",
              "      <td>51</td>\n",
              "      <td>12</td>\n",
              "      <td>60+</td>\n",
              "      <td>10+</td>\n",
              "    </tr>\n",
              "    <tr>\n",
              "      <th>3</th>\n",
              "      <td>4</td>\n",
              "      <td>1</td>\n",
              "      <td>965</td>\n",
              "      <td>20</td>\n",
              "      <td>985</td>\n",
              "      <td>64</td>\n",
              "      <td>10.97</td>\n",
              "      <td>0</td>\n",
              "      <td>1</td>\n",
              "      <td>1567</td>\n",
              "      <td>35</td>\n",
              "      <td>1</td>\n",
              "      <td>1</td>\n",
              "      <td>0</td>\n",
              "      <td>51</td>\n",
              "      <td>104</td>\n",
              "      <td>5</td>\n",
              "      <td>50-60</td>\n",
              "      <td>&lt; 5</td>\n",
              "    </tr>\n",
              "    <tr>\n",
              "      <th>4</th>\n",
              "      <td>6</td>\n",
              "      <td>0</td>\n",
              "      <td>1152</td>\n",
              "      <td>66</td>\n",
              "      <td>743</td>\n",
              "      <td>538</td>\n",
              "      <td>17.02</td>\n",
              "      <td>1</td>\n",
              "      <td>1</td>\n",
              "      <td>1523</td>\n",
              "      <td>35</td>\n",
              "      <td>1</td>\n",
              "      <td>1</td>\n",
              "      <td>0</td>\n",
              "      <td>56</td>\n",
              "      <td>195</td>\n",
              "      <td>6</td>\n",
              "      <td>50-60</td>\n",
              "      <td>5-10</td>\n",
              "    </tr>\n",
              "  </tbody>\n",
              "</table>\n",
              "</div>"
            ],
            "text/plain": [
              "   dropoff_date_difference  ...  drop_pick_date_range\n",
              "0                        7  ...                  5-10\n",
              "1                        2  ...                  5-10\n",
              "2                        6  ...                   10+\n",
              "3                        4  ...                   < 5\n",
              "4                        6  ...                  5-10\n",
              "\n",
              "[5 rows x 19 columns]"
            ]
          },
          "metadata": {
            "tags": []
          },
          "execution_count": 36
        }
      ]
    },
    {
      "cell_type": "code",
      "metadata": {
        "colab": {
          "base_uri": "https://localhost:8080/"
        },
        "id": "mXona5ozwrgR",
        "outputId": "72f92c88-46bf-43ee-e424-eb34ed5e4597"
      },
      "source": [
        "df1.offer_amount.describe()"
      ],
      "execution_count": null,
      "outputs": [
        {
          "output_type": "execute_result",
          "data": {
            "text/plain": [
              "count    963.000000\n",
              "mean      41.942887\n",
              "std       13.163448\n",
              "min       25.000000\n",
              "25%       35.000000\n",
              "50%       40.000000\n",
              "75%       45.000000\n",
              "max       88.000000\n",
              "Name: offer_amount, dtype: float64"
            ]
          },
          "metadata": {
            "tags": []
          },
          "execution_count": 37
        }
      ]
    },
    {
      "cell_type": "code",
      "metadata": {
        "colab": {
          "base_uri": "https://localhost:8080/",
          "height": 224
        },
        "id": "6rvobfcfITEh",
        "outputId": "dc68d38d-c1b5-4688-e0ff-7342cfa67764"
      },
      "source": [
        "bins_offer = [0, 25, 35, 40, 50, np.inf]\n",
        "names_offer = ['< 25', '25-35', '35-40', '40-50', '50+']\n",
        "df1['offer_range'] = pd.cut(df1['offer_amount'], bins_offer, labels=names_offer)\n",
        "df1.head()"
      ],
      "execution_count": null,
      "outputs": [
        {
          "output_type": "execute_result",
          "data": {
            "text/html": [
              "<div>\n",
              "<style scoped>\n",
              "    .dataframe tbody tr th:only-of-type {\n",
              "        vertical-align: middle;\n",
              "    }\n",
              "\n",
              "    .dataframe tbody tr th {\n",
              "        vertical-align: top;\n",
              "    }\n",
              "\n",
              "    .dataframe thead th {\n",
              "        text-align: right;\n",
              "    }\n",
              "</style>\n",
              "<table border=\"1\" class=\"dataframe\">\n",
              "  <thead>\n",
              "    <tr style=\"text-align: right;\">\n",
              "      <th></th>\n",
              "      <th>dropoff_date_difference</th>\n",
              "      <th>pickup_date_difference</th>\n",
              "      <th>origin_to_destination</th>\n",
              "      <th>origin_to_pickup</th>\n",
              "      <th>pickup_to_dropoff</th>\n",
              "      <th>destination_to_dropoff</th>\n",
              "      <th>out_of_way_score</th>\n",
              "      <th>truck_size</th>\n",
              "      <th>load_size</th>\n",
              "      <th>rental_rate</th>\n",
              "      <th>offer_amount</th>\n",
              "      <th>insurance_purchased</th>\n",
              "      <th>renter_verified</th>\n",
              "      <th>success</th>\n",
              "      <th>age</th>\n",
              "      <th>dist_diff</th>\n",
              "      <th>drop_pick_date_diff</th>\n",
              "      <th>agerange</th>\n",
              "      <th>drop_pick_date_range</th>\n",
              "      <th>offer_range</th>\n",
              "    </tr>\n",
              "  </thead>\n",
              "  <tbody>\n",
              "    <tr>\n",
              "      <th>0</th>\n",
              "      <td>7</td>\n",
              "      <td>0</td>\n",
              "      <td>1533</td>\n",
              "      <td>111</td>\n",
              "      <td>685</td>\n",
              "      <td>969</td>\n",
              "      <td>15.14</td>\n",
              "      <td>1</td>\n",
              "      <td>1</td>\n",
              "      <td>538</td>\n",
              "      <td>35</td>\n",
              "      <td>1</td>\n",
              "      <td>1</td>\n",
              "      <td>0</td>\n",
              "      <td>61</td>\n",
              "      <td>232</td>\n",
              "      <td>7</td>\n",
              "      <td>60+</td>\n",
              "      <td>5-10</td>\n",
              "      <td>25-35</td>\n",
              "    </tr>\n",
              "    <tr>\n",
              "      <th>1</th>\n",
              "      <td>2</td>\n",
              "      <td>6</td>\n",
              "      <td>2915</td>\n",
              "      <td>192</td>\n",
              "      <td>1933</td>\n",
              "      <td>917</td>\n",
              "      <td>4.37</td>\n",
              "      <td>0</td>\n",
              "      <td>1</td>\n",
              "      <td>3226</td>\n",
              "      <td>45</td>\n",
              "      <td>1</td>\n",
              "      <td>1</td>\n",
              "      <td>0</td>\n",
              "      <td>63</td>\n",
              "      <td>127</td>\n",
              "      <td>8</td>\n",
              "      <td>60+</td>\n",
              "      <td>5-10</td>\n",
              "      <td>40-50</td>\n",
              "    </tr>\n",
              "    <tr>\n",
              "      <th>2</th>\n",
              "      <td>6</td>\n",
              "      <td>6</td>\n",
              "      <td>1818</td>\n",
              "      <td>39</td>\n",
              "      <td>1645</td>\n",
              "      <td>185</td>\n",
              "      <td>2.88</td>\n",
              "      <td>1</td>\n",
              "      <td>1</td>\n",
              "      <td>1123</td>\n",
              "      <td>45</td>\n",
              "      <td>1</td>\n",
              "      <td>1</td>\n",
              "      <td>0</td>\n",
              "      <td>62</td>\n",
              "      <td>51</td>\n",
              "      <td>12</td>\n",
              "      <td>60+</td>\n",
              "      <td>10+</td>\n",
              "      <td>40-50</td>\n",
              "    </tr>\n",
              "    <tr>\n",
              "      <th>3</th>\n",
              "      <td>4</td>\n",
              "      <td>1</td>\n",
              "      <td>965</td>\n",
              "      <td>20</td>\n",
              "      <td>985</td>\n",
              "      <td>64</td>\n",
              "      <td>10.97</td>\n",
              "      <td>0</td>\n",
              "      <td>1</td>\n",
              "      <td>1567</td>\n",
              "      <td>35</td>\n",
              "      <td>1</td>\n",
              "      <td>1</td>\n",
              "      <td>0</td>\n",
              "      <td>51</td>\n",
              "      <td>104</td>\n",
              "      <td>5</td>\n",
              "      <td>50-60</td>\n",
              "      <td>&lt; 5</td>\n",
              "      <td>25-35</td>\n",
              "    </tr>\n",
              "    <tr>\n",
              "      <th>4</th>\n",
              "      <td>6</td>\n",
              "      <td>0</td>\n",
              "      <td>1152</td>\n",
              "      <td>66</td>\n",
              "      <td>743</td>\n",
              "      <td>538</td>\n",
              "      <td>17.02</td>\n",
              "      <td>1</td>\n",
              "      <td>1</td>\n",
              "      <td>1523</td>\n",
              "      <td>35</td>\n",
              "      <td>1</td>\n",
              "      <td>1</td>\n",
              "      <td>0</td>\n",
              "      <td>56</td>\n",
              "      <td>195</td>\n",
              "      <td>6</td>\n",
              "      <td>50-60</td>\n",
              "      <td>5-10</td>\n",
              "      <td>25-35</td>\n",
              "    </tr>\n",
              "  </tbody>\n",
              "</table>\n",
              "</div>"
            ],
            "text/plain": [
              "   dropoff_date_difference  ...  offer_range\n",
              "0                        7  ...        25-35\n",
              "1                        2  ...        40-50\n",
              "2                        6  ...        40-50\n",
              "3                        4  ...        25-35\n",
              "4                        6  ...        25-35\n",
              "\n",
              "[5 rows x 20 columns]"
            ]
          },
          "metadata": {
            "tags": []
          },
          "execution_count": 38
        }
      ]
    },
    {
      "cell_type": "code",
      "metadata": {
        "colab": {
          "base_uri": "https://localhost:8080/"
        },
        "id": "CtXrbjMXITXO",
        "outputId": "7c0af9c4-0244-4241-ea7c-37e153825b5a"
      },
      "source": [
        "df1.rental_rate.describe()"
      ],
      "execution_count": null,
      "outputs": [
        {
          "output_type": "execute_result",
          "data": {
            "text/plain": [
              "count     963.000000\n",
              "mean     1673.336449\n",
              "std      1166.286949\n",
              "min        29.000000\n",
              "25%       793.500000\n",
              "50%      1401.000000\n",
              "75%      2293.000000\n",
              "max      6986.000000\n",
              "Name: rental_rate, dtype: float64"
            ]
          },
          "metadata": {
            "tags": []
          },
          "execution_count": 39
        }
      ]
    },
    {
      "cell_type": "code",
      "metadata": {
        "colab": {
          "base_uri": "https://localhost:8080/",
          "height": 224
        },
        "id": "6chsQ8VOITp3",
        "outputId": "cdfc52e1-159b-4fd2-854e-84521ecdca3b"
      },
      "source": [
        "bins_rental_rate = [0, 500, 800, 1400, 2000, 5000, np.inf]\n",
        "names_rental_rate = ['< 500', '500-800', '800-1400', '1400-2000', '2000-5000', '5000+']\n",
        "df1['rental_rate_range'] = pd.cut(df1['rental_rate'], bins_rental_rate, labels=names_rental_rate)\n",
        "df1.head()"
      ],
      "execution_count": null,
      "outputs": [
        {
          "output_type": "execute_result",
          "data": {
            "text/html": [
              "<div>\n",
              "<style scoped>\n",
              "    .dataframe tbody tr th:only-of-type {\n",
              "        vertical-align: middle;\n",
              "    }\n",
              "\n",
              "    .dataframe tbody tr th {\n",
              "        vertical-align: top;\n",
              "    }\n",
              "\n",
              "    .dataframe thead th {\n",
              "        text-align: right;\n",
              "    }\n",
              "</style>\n",
              "<table border=\"1\" class=\"dataframe\">\n",
              "  <thead>\n",
              "    <tr style=\"text-align: right;\">\n",
              "      <th></th>\n",
              "      <th>dropoff_date_difference</th>\n",
              "      <th>pickup_date_difference</th>\n",
              "      <th>origin_to_destination</th>\n",
              "      <th>origin_to_pickup</th>\n",
              "      <th>pickup_to_dropoff</th>\n",
              "      <th>destination_to_dropoff</th>\n",
              "      <th>out_of_way_score</th>\n",
              "      <th>truck_size</th>\n",
              "      <th>load_size</th>\n",
              "      <th>rental_rate</th>\n",
              "      <th>offer_amount</th>\n",
              "      <th>insurance_purchased</th>\n",
              "      <th>renter_verified</th>\n",
              "      <th>success</th>\n",
              "      <th>age</th>\n",
              "      <th>dist_diff</th>\n",
              "      <th>drop_pick_date_diff</th>\n",
              "      <th>agerange</th>\n",
              "      <th>drop_pick_date_range</th>\n",
              "      <th>offer_range</th>\n",
              "      <th>rental_rate_range</th>\n",
              "    </tr>\n",
              "  </thead>\n",
              "  <tbody>\n",
              "    <tr>\n",
              "      <th>0</th>\n",
              "      <td>7</td>\n",
              "      <td>0</td>\n",
              "      <td>1533</td>\n",
              "      <td>111</td>\n",
              "      <td>685</td>\n",
              "      <td>969</td>\n",
              "      <td>15.14</td>\n",
              "      <td>1</td>\n",
              "      <td>1</td>\n",
              "      <td>538</td>\n",
              "      <td>35</td>\n",
              "      <td>1</td>\n",
              "      <td>1</td>\n",
              "      <td>0</td>\n",
              "      <td>61</td>\n",
              "      <td>232</td>\n",
              "      <td>7</td>\n",
              "      <td>60+</td>\n",
              "      <td>5-10</td>\n",
              "      <td>25-35</td>\n",
              "      <td>500-800</td>\n",
              "    </tr>\n",
              "    <tr>\n",
              "      <th>1</th>\n",
              "      <td>2</td>\n",
              "      <td>6</td>\n",
              "      <td>2915</td>\n",
              "      <td>192</td>\n",
              "      <td>1933</td>\n",
              "      <td>917</td>\n",
              "      <td>4.37</td>\n",
              "      <td>0</td>\n",
              "      <td>1</td>\n",
              "      <td>3226</td>\n",
              "      <td>45</td>\n",
              "      <td>1</td>\n",
              "      <td>1</td>\n",
              "      <td>0</td>\n",
              "      <td>63</td>\n",
              "      <td>127</td>\n",
              "      <td>8</td>\n",
              "      <td>60+</td>\n",
              "      <td>5-10</td>\n",
              "      <td>40-50</td>\n",
              "      <td>2000-5000</td>\n",
              "    </tr>\n",
              "    <tr>\n",
              "      <th>2</th>\n",
              "      <td>6</td>\n",
              "      <td>6</td>\n",
              "      <td>1818</td>\n",
              "      <td>39</td>\n",
              "      <td>1645</td>\n",
              "      <td>185</td>\n",
              "      <td>2.88</td>\n",
              "      <td>1</td>\n",
              "      <td>1</td>\n",
              "      <td>1123</td>\n",
              "      <td>45</td>\n",
              "      <td>1</td>\n",
              "      <td>1</td>\n",
              "      <td>0</td>\n",
              "      <td>62</td>\n",
              "      <td>51</td>\n",
              "      <td>12</td>\n",
              "      <td>60+</td>\n",
              "      <td>10+</td>\n",
              "      <td>40-50</td>\n",
              "      <td>800-1400</td>\n",
              "    </tr>\n",
              "    <tr>\n",
              "      <th>3</th>\n",
              "      <td>4</td>\n",
              "      <td>1</td>\n",
              "      <td>965</td>\n",
              "      <td>20</td>\n",
              "      <td>985</td>\n",
              "      <td>64</td>\n",
              "      <td>10.97</td>\n",
              "      <td>0</td>\n",
              "      <td>1</td>\n",
              "      <td>1567</td>\n",
              "      <td>35</td>\n",
              "      <td>1</td>\n",
              "      <td>1</td>\n",
              "      <td>0</td>\n",
              "      <td>51</td>\n",
              "      <td>104</td>\n",
              "      <td>5</td>\n",
              "      <td>50-60</td>\n",
              "      <td>&lt; 5</td>\n",
              "      <td>25-35</td>\n",
              "      <td>1400-2000</td>\n",
              "    </tr>\n",
              "    <tr>\n",
              "      <th>4</th>\n",
              "      <td>6</td>\n",
              "      <td>0</td>\n",
              "      <td>1152</td>\n",
              "      <td>66</td>\n",
              "      <td>743</td>\n",
              "      <td>538</td>\n",
              "      <td>17.02</td>\n",
              "      <td>1</td>\n",
              "      <td>1</td>\n",
              "      <td>1523</td>\n",
              "      <td>35</td>\n",
              "      <td>1</td>\n",
              "      <td>1</td>\n",
              "      <td>0</td>\n",
              "      <td>56</td>\n",
              "      <td>195</td>\n",
              "      <td>6</td>\n",
              "      <td>50-60</td>\n",
              "      <td>5-10</td>\n",
              "      <td>25-35</td>\n",
              "      <td>1400-2000</td>\n",
              "    </tr>\n",
              "  </tbody>\n",
              "</table>\n",
              "</div>"
            ],
            "text/plain": [
              "   dropoff_date_difference  ...  rental_rate_range\n",
              "0                        7  ...            500-800\n",
              "1                        2  ...          2000-5000\n",
              "2                        6  ...           800-1400\n",
              "3                        4  ...          1400-2000\n",
              "4                        6  ...          1400-2000\n",
              "\n",
              "[5 rows x 21 columns]"
            ]
          },
          "metadata": {
            "tags": []
          },
          "execution_count": 40
        }
      ]
    },
    {
      "cell_type": "markdown",
      "metadata": {
        "id": "dqJox7ParYYe"
      },
      "source": [
        "The following plot shows features 'age', 'drop_pick_date_difference', 'offer_range' before and after binning."
      ]
    },
    {
      "cell_type": "code",
      "metadata": {
        "colab": {
          "base_uri": "https://localhost:8080/",
          "height": 559
        },
        "id": "c1WVmaFGIELo",
        "outputId": "a12df082-a75d-4cdb-93bf-318a5d9f952f"
      },
      "source": [
        "fig, axarr = plt.subplots(2, 4, figsize = (20, 8))\n",
        "df1.drop_pick_date_diff.value_counts().sort_index().plot(kind = 'bar', ax=axarr[0][1], xlabel = 'drop_pick_date_difference', ylabel = 'count')\n",
        "df1.drop_pick_date_range.value_counts().sort_index().plot(kind = 'bar', ax=axarr[1][1], xlabel = 'drop_pick_date_range', ylabel = 'count')\n",
        "df1.age.value_counts().sort_index().plot(kind = 'bar', ax = axarr[0][0], xlabel = 'age', ylabel = 'count')\n",
        "df1.agerange.value_counts().sort_index().plot(kind = 'bar', ax = axarr[1][0], xlabel = 'agerange', ylabel = 'count')\n",
        "df1.offer_amount.value_counts().sort_index().plot(kind = 'bar', ax = axarr[0][2], xlabel = 'offer_amount', ylabel = 'count')\n",
        "df1.offer_range.value_counts().sort_index().plot(kind = 'bar', ax = axarr[1][2], xlabel = 'offer_amount', ylabel = 'count')\n",
        "df1.rental_rate.value_counts().sort_index().plot(kind = 'bar', ax = axarr[0][3], xlabel = 'rental_rate', ylabel = 'count')\n",
        "df1.rental_rate_range.value_counts().sort_index().plot(kind = 'bar', ax = axarr[1][3], xlabel = 'rental_rate_range', ylabel = 'count')\n",
        "\n"
      ],
      "execution_count": null,
      "outputs": [
        {
          "output_type": "execute_result",
          "data": {
            "text/plain": [
              "<matplotlib.axes._subplots.AxesSubplot at 0x7f18928d9110>"
            ]
          },
          "metadata": {
            "tags": []
          },
          "execution_count": 41
        },
        {
          "output_type": "display_data",
          "data": {
            "image/png": "[encoded data removed]",
            "text/plain": [
              "<Figure size 1440x576 with 8 Axes>"
            ]
          },
          "metadata": {
            "tags": [],
            "needs_background": "light"
          }
        }
      ]
    },
    {
      "cell_type": "code",
      "metadata": {
        "colab": {
          "base_uri": "https://localhost:8080/",
          "height": 406
        },
        "id": "ZWwPLwLMejjF",
        "outputId": "7855ec37-a822-441e-ce80-1dcad247c3e1"
      },
      "source": [
        "fig, ax =plt.subplots(1, 4, figsize=(16, 6), squeeze=False)\n",
        "sns.countplot(x=\"agerange\", hue=\"success\", data=df1, ax=ax[0][0])\n",
        "sns.countplot(x=\"drop_pick_date_range\", hue=\"success\", data=df1, ax=ax[0][1])\n",
        "sns.countplot(x=\"offer_amount\", hue=\"success\", data=df1, ax=ax[0][2])\n",
        "sns.countplot(x=\"rental_rate_range\", hue=\"success\", data=df1, ax=ax[0][3])\n"
      ],
      "execution_count": null,
      "outputs": [
        {
          "output_type": "execute_result",
          "data": {
            "text/plain": [
              "<matplotlib.axes._subplots.AxesSubplot at 0x7f1890cbfd90>"
            ]
          },
          "metadata": {
            "tags": []
          },
          "execution_count": 42
        },
        {
          "output_type": "display_data",
          "data": {
            "image/png": "[encoded data removed]",
            "text/plain": [
              "<Figure size 1152x432 with 4 Axes>"
            ]
          },
          "metadata": {
            "tags": [],
            "needs_background": "light"
          }
        }
      ]
    },
    {
      "cell_type": "markdown",
      "metadata": {
        "id": "hCzSQQ5Uan1t"
      },
      "source": [
        "**On the otherhand, we can still keep the above features as they were without doing binning**"
      ]
    },
    {
      "cell_type": "code",
      "metadata": {
        "colab": {
          "base_uri": "https://localhost:8080/",
          "height": 1000
        },
        "id": "NrB4RP79amqV",
        "outputId": "cfed5620-76ba-480a-9464-a4b2d2ad8012"
      },
      "source": [
        "cols = ['age', 'drop_pick_date_diff', 'rental_rate', 'offer_amount']\n",
        "for col in cols:\n",
        "  sns.factorplot(col, 'success', data = df1, aspect = 1)"
      ],
      "execution_count": null,
      "outputs": [
        {
          "output_type": "display_data",
          "data": {
            "image/png": "[encoded data removed]",
            "text/plain": [
              "<Figure size 360x360 with 1 Axes>"
            ]
          },
          "metadata": {
            "tags": [],
            "needs_background": "light"
          }
        },
        {
          "output_type": "display_data",
          "data": {
            "image/png": "[encoded data removed]",
            "text/plain": [
              "<Figure size 360x360 with 1 Axes>"
            ]
          },
          "metadata": {
            "tags": [],
            "needs_background": "light"
          }
        },
        {
          "output_type": "display_data",
          "data": {
            "image/png": "[encoded data removed]",
            "text/plain": [
              "<Figure size 360x360 with 1 Axes>"
            ]
          },
          "metadata": {
            "tags": [],
            "needs_background": "light"
          }
        },
        {
          "output_type": "display_data",
          "data": {
            "image/png": "[encoded data removed]",
            "text/plain": [
              "<Figure size 360x360 with 1 Axes>"
            ]
          },
          "metadata": {
            "tags": [],
            "needs_background": "light"
          }
        }
      ]
    },
    {
      "cell_type": "markdown",
      "metadata": {
        "id": "NSvj3H9S1qB7"
      },
      "source": [
        "**Label encoding of 'agerange'**"
      ]
    },
    {
      "cell_type": "code",
      "metadata": {
        "id": "cdUrpTRl0kXX"
      },
      "source": [
        "cat1 = ['< 30', '30-40', '40-50', '50-60', '60+']\n",
        "#cat2 = ['< 5', '5-10', '10+']\n",
        "\n",
        "column_to_cat = {'agerange': cat1}\n",
        "\n",
        "mapper_df = DataFrameMapper(\n",
        "    [\n",
        "     ([col], OrdinalEncoder(categories=[cat])) for col, cat in column_to_cat.items()\n",
        "    ],\n",
        "    df_out = True\n",
        ")\n",
        "\n",
        "df_enc = mapper_df.fit_transform(df1.copy())\n",
        "df_enc[df_enc.columns.values.tolist()] = df_enc[df_enc.columns.values.tolist()].astype(int)\n"
      ],
      "execution_count": null,
      "outputs": []
    },
    {
      "cell_type": "code",
      "metadata": {
        "colab": {
          "base_uri": "https://localhost:8080/",
          "height": 224
        },
        "id": "i_QuNr9i0kjO",
        "outputId": "dc1914d4-6176-4543-93eb-d761b3f12af1"
      },
      "source": [
        "df_enc = pd.concat([df1, df_enc], axis = 1)\n",
        "df_enc.head()"
      ],
      "execution_count": null,
      "outputs": [
        {
          "output_type": "execute_result",
          "data": {
            "text/html": [
              "<div>\n",
              "<style scoped>\n",
              "    .dataframe tbody tr th:only-of-type {\n",
              "        vertical-align: middle;\n",
              "    }\n",
              "\n",
              "    .dataframe tbody tr th {\n",
              "        vertical-align: top;\n",
              "    }\n",
              "\n",
              "    .dataframe thead th {\n",
              "        text-align: right;\n",
              "    }\n",
              "</style>\n",
              "<table border=\"1\" class=\"dataframe\">\n",
              "  <thead>\n",
              "    <tr style=\"text-align: right;\">\n",
              "      <th></th>\n",
              "      <th>dropoff_date_difference</th>\n",
              "      <th>pickup_date_difference</th>\n",
              "      <th>origin_to_destination</th>\n",
              "      <th>origin_to_pickup</th>\n",
              "      <th>pickup_to_dropoff</th>\n",
              "      <th>destination_to_dropoff</th>\n",
              "      <th>out_of_way_score</th>\n",
              "      <th>truck_size</th>\n",
              "      <th>load_size</th>\n",
              "      <th>rental_rate</th>\n",
              "      <th>offer_amount</th>\n",
              "      <th>insurance_purchased</th>\n",
              "      <th>renter_verified</th>\n",
              "      <th>success</th>\n",
              "      <th>age</th>\n",
              "      <th>dist_diff</th>\n",
              "      <th>drop_pick_date_diff</th>\n",
              "      <th>agerange</th>\n",
              "      <th>drop_pick_date_range</th>\n",
              "      <th>offer_range</th>\n",
              "      <th>rental_rate_range</th>\n",
              "      <th>agerange</th>\n",
              "    </tr>\n",
              "  </thead>\n",
              "  <tbody>\n",
              "    <tr>\n",
              "      <th>0</th>\n",
              "      <td>7</td>\n",
              "      <td>0</td>\n",
              "      <td>1533</td>\n",
              "      <td>111</td>\n",
              "      <td>685</td>\n",
              "      <td>969</td>\n",
              "      <td>15.14</td>\n",
              "      <td>1</td>\n",
              "      <td>1</td>\n",
              "      <td>538</td>\n",
              "      <td>35</td>\n",
              "      <td>1</td>\n",
              "      <td>1</td>\n",
              "      <td>0</td>\n",
              "      <td>61</td>\n",
              "      <td>232</td>\n",
              "      <td>7</td>\n",
              "      <td>60+</td>\n",
              "      <td>5-10</td>\n",
              "      <td>25-35</td>\n",
              "      <td>500-800</td>\n",
              "      <td>4</td>\n",
              "    </tr>\n",
              "    <tr>\n",
              "      <th>1</th>\n",
              "      <td>2</td>\n",
              "      <td>6</td>\n",
              "      <td>2915</td>\n",
              "      <td>192</td>\n",
              "      <td>1933</td>\n",
              "      <td>917</td>\n",
              "      <td>4.37</td>\n",
              "      <td>0</td>\n",
              "      <td>1</td>\n",
              "      <td>3226</td>\n",
              "      <td>45</td>\n",
              "      <td>1</td>\n",
              "      <td>1</td>\n",
              "      <td>0</td>\n",
              "      <td>63</td>\n",
              "      <td>127</td>\n",
              "      <td>8</td>\n",
              "      <td>60+</td>\n",
              "      <td>5-10</td>\n",
              "      <td>40-50</td>\n",
              "      <td>2000-5000</td>\n",
              "      <td>4</td>\n",
              "    </tr>\n",
              "    <tr>\n",
              "      <th>2</th>\n",
              "      <td>6</td>\n",
              "      <td>6</td>\n",
              "      <td>1818</td>\n",
              "      <td>39</td>\n",
              "      <td>1645</td>\n",
              "      <td>185</td>\n",
              "      <td>2.88</td>\n",
              "      <td>1</td>\n",
              "      <td>1</td>\n",
              "      <td>1123</td>\n",
              "      <td>45</td>\n",
              "      <td>1</td>\n",
              "      <td>1</td>\n",
              "      <td>0</td>\n",
              "      <td>62</td>\n",
              "      <td>51</td>\n",
              "      <td>12</td>\n",
              "      <td>60+</td>\n",
              "      <td>10+</td>\n",
              "      <td>40-50</td>\n",
              "      <td>800-1400</td>\n",
              "      <td>4</td>\n",
              "    </tr>\n",
              "    <tr>\n",
              "      <th>3</th>\n",
              "      <td>4</td>\n",
              "      <td>1</td>\n",
              "      <td>965</td>\n",
              "      <td>20</td>\n",
              "      <td>985</td>\n",
              "      <td>64</td>\n",
              "      <td>10.97</td>\n",
              "      <td>0</td>\n",
              "      <td>1</td>\n",
              "      <td>1567</td>\n",
              "      <td>35</td>\n",
              "      <td>1</td>\n",
              "      <td>1</td>\n",
              "      <td>0</td>\n",
              "      <td>51</td>\n",
              "      <td>104</td>\n",
              "      <td>5</td>\n",
              "      <td>50-60</td>\n",
              "      <td>&lt; 5</td>\n",
              "      <td>25-35</td>\n",
              "      <td>1400-2000</td>\n",
              "      <td>3</td>\n",
              "    </tr>\n",
              "    <tr>\n",
              "      <th>4</th>\n",
              "      <td>6</td>\n",
              "      <td>0</td>\n",
              "      <td>1152</td>\n",
              "      <td>66</td>\n",
              "      <td>743</td>\n",
              "      <td>538</td>\n",
              "      <td>17.02</td>\n",
              "      <td>1</td>\n",
              "      <td>1</td>\n",
              "      <td>1523</td>\n",
              "      <td>35</td>\n",
              "      <td>1</td>\n",
              "      <td>1</td>\n",
              "      <td>0</td>\n",
              "      <td>56</td>\n",
              "      <td>195</td>\n",
              "      <td>6</td>\n",
              "      <td>50-60</td>\n",
              "      <td>5-10</td>\n",
              "      <td>25-35</td>\n",
              "      <td>1400-2000</td>\n",
              "      <td>3</td>\n",
              "    </tr>\n",
              "  </tbody>\n",
              "</table>\n",
              "</div>"
            ],
            "text/plain": [
              "   dropoff_date_difference  pickup_date_difference  ...  rental_rate_range  agerange\n",
              "0                        7                       0  ...            500-800         4\n",
              "1                        2                       6  ...          2000-5000         4\n",
              "2                        6                       6  ...           800-1400         4\n",
              "3                        4                       1  ...          1400-2000         3\n",
              "4                        6                       0  ...          1400-2000         3\n",
              "\n",
              "[5 rows x 22 columns]"
            ]
          },
          "metadata": {
            "tags": []
          },
          "execution_count": 45
        }
      ]
    },
    {
      "cell_type": "markdown",
      "metadata": {
        "id": "f6Gqz2HCACYB"
      },
      "source": [
        "**3.2 Examine the correlation among features and target**"
      ]
    },
    {
      "cell_type": "code",
      "metadata": {
        "colab": {
          "base_uri": "https://localhost:8080/",
          "height": 627
        },
        "id": "UYa-ClgZARiH",
        "outputId": "9750c0f7-fdc5-466b-dd80-bbb222d8407d"
      },
      "source": [
        "corr = df_enc.corr(method = 'spearman')\n",
        "corr"
      ],
      "execution_count": null,
      "outputs": [
        {
          "output_type": "execute_result",
          "data": {
            "text/html": [
              "<div>\n",
              "<style scoped>\n",
              "    .dataframe tbody tr th:only-of-type {\n",
              "        vertical-align: middle;\n",
              "    }\n",
              "\n",
              "    .dataframe tbody tr th {\n",
              "        vertical-align: top;\n",
              "    }\n",
              "\n",
              "    .dataframe thead th {\n",
              "        text-align: right;\n",
              "    }\n",
              "</style>\n",
              "<table border=\"1\" class=\"dataframe\">\n",
              "  <thead>\n",
              "    <tr style=\"text-align: right;\">\n",
              "      <th></th>\n",
              "      <th>dropoff_date_difference</th>\n",
              "      <th>pickup_date_difference</th>\n",
              "      <th>origin_to_destination</th>\n",
              "      <th>origin_to_pickup</th>\n",
              "      <th>pickup_to_dropoff</th>\n",
              "      <th>destination_to_dropoff</th>\n",
              "      <th>out_of_way_score</th>\n",
              "      <th>truck_size</th>\n",
              "      <th>load_size</th>\n",
              "      <th>rental_rate</th>\n",
              "      <th>offer_amount</th>\n",
              "      <th>insurance_purchased</th>\n",
              "      <th>renter_verified</th>\n",
              "      <th>success</th>\n",
              "      <th>age</th>\n",
              "      <th>dist_diff</th>\n",
              "      <th>drop_pick_date_diff</th>\n",
              "      <th>agerange</th>\n",
              "    </tr>\n",
              "  </thead>\n",
              "  <tbody>\n",
              "    <tr>\n",
              "      <th>dropoff_date_difference</th>\n",
              "      <td>1.000000</td>\n",
              "      <td>-0.510036</td>\n",
              "      <td>-0.105278</td>\n",
              "      <td>-0.063973</td>\n",
              "      <td>0.002782</td>\n",
              "      <td>-0.154441</td>\n",
              "      <td>-0.019980</td>\n",
              "      <td>0.019669</td>\n",
              "      <td>0.031620</td>\n",
              "      <td>-0.082596</td>\n",
              "      <td>0.026136</td>\n",
              "      <td>-0.062219</td>\n",
              "      <td>0.033087</td>\n",
              "      <td>-0.017738</td>\n",
              "      <td>0.017379</td>\n",
              "      <td>-0.075049</td>\n",
              "      <td>0.792380</td>\n",
              "      <td>0.017560</td>\n",
              "    </tr>\n",
              "    <tr>\n",
              "      <th>pickup_date_difference</th>\n",
              "      <td>-0.510036</td>\n",
              "      <td>1.000000</td>\n",
              "      <td>0.083357</td>\n",
              "      <td>-0.025352</td>\n",
              "      <td>0.131768</td>\n",
              "      <td>-0.026090</td>\n",
              "      <td>0.075129</td>\n",
              "      <td>0.013327</td>\n",
              "      <td>-0.004777</td>\n",
              "      <td>0.073472</td>\n",
              "      <td>0.095501</td>\n",
              "      <td>0.048392</td>\n",
              "      <td>0.013842</td>\n",
              "      <td>-0.095166</td>\n",
              "      <td>-0.036740</td>\n",
              "      <td>0.114995</td>\n",
              "      <td>0.062963</td>\n",
              "      <td>-0.038470</td>\n",
              "    </tr>\n",
              "    <tr>\n",
              "      <th>origin_to_destination</th>\n",
              "      <td>-0.105278</td>\n",
              "      <td>0.083357</td>\n",
              "      <td>1.000000</td>\n",
              "      <td>0.320307</td>\n",
              "      <td>0.794031</td>\n",
              "      <td>0.318689</td>\n",
              "      <td>0.031556</td>\n",
              "      <td>-0.021729</td>\n",
              "      <td>-0.016410</td>\n",
              "      <td>0.487655</td>\n",
              "      <td>0.611675</td>\n",
              "      <td>0.036422</td>\n",
              "      <td>-0.047123</td>\n",
              "      <td>-0.102124</td>\n",
              "      <td>0.009966</td>\n",
              "      <td>0.515405</td>\n",
              "      <td>-0.046763</td>\n",
              "      <td>0.004199</td>\n",
              "    </tr>\n",
              "    <tr>\n",
              "      <th>origin_to_pickup</th>\n",
              "      <td>-0.063973</td>\n",
              "      <td>-0.025352</td>\n",
              "      <td>0.320307</td>\n",
              "      <td>1.000000</td>\n",
              "      <td>0.014121</td>\n",
              "      <td>-0.091907</td>\n",
              "      <td>0.108808</td>\n",
              "      <td>-0.041555</td>\n",
              "      <td>0.020183</td>\n",
              "      <td>0.106308</td>\n",
              "      <td>0.021686</td>\n",
              "      <td>-0.008853</td>\n",
              "      <td>-0.050181</td>\n",
              "      <td>-0.194743</td>\n",
              "      <td>0.041906</td>\n",
              "      <td>0.265023</td>\n",
              "      <td>-0.105225</td>\n",
              "      <td>0.039089</td>\n",
              "    </tr>\n",
              "    <tr>\n",
              "      <th>pickup_to_dropoff</th>\n",
              "      <td>0.002782</td>\n",
              "      <td>0.131768</td>\n",
              "      <td>0.794031</td>\n",
              "      <td>0.014121</td>\n",
              "      <td>1.000000</td>\n",
              "      <td>-0.072650</td>\n",
              "      <td>0.070222</td>\n",
              "      <td>-0.011479</td>\n",
              "      <td>-0.065048</td>\n",
              "      <td>0.442624</td>\n",
              "      <td>0.730056</td>\n",
              "      <td>0.026897</td>\n",
              "      <td>-0.021080</td>\n",
              "      <td>-0.047282</td>\n",
              "      <td>-0.031198</td>\n",
              "      <td>0.451826</td>\n",
              "      <td>0.116935</td>\n",
              "      <td>-0.034881</td>\n",
              "    </tr>\n",
              "    <tr>\n",
              "      <th>destination_to_dropoff</th>\n",
              "      <td>-0.154441</td>\n",
              "      <td>-0.026090</td>\n",
              "      <td>0.318689</td>\n",
              "      <td>-0.091907</td>\n",
              "      <td>-0.072650</td>\n",
              "      <td>1.000000</td>\n",
              "      <td>0.166084</td>\n",
              "      <td>-0.024301</td>\n",
              "      <td>0.088398</td>\n",
              "      <td>0.183435</td>\n",
              "      <td>0.004863</td>\n",
              "      <td>-0.007964</td>\n",
              "      <td>-0.055087</td>\n",
              "      <td>-0.093979</td>\n",
              "      <td>0.040885</td>\n",
              "      <td>0.304094</td>\n",
              "      <td>-0.184932</td>\n",
              "      <td>0.046792</td>\n",
              "    </tr>\n",
              "    <tr>\n",
              "      <th>out_of_way_score</th>\n",
              "      <td>-0.019980</td>\n",
              "      <td>0.075129</td>\n",
              "      <td>0.031556</td>\n",
              "      <td>0.108808</td>\n",
              "      <td>0.070222</td>\n",
              "      <td>0.166084</td>\n",
              "      <td>1.000000</td>\n",
              "      <td>0.004342</td>\n",
              "      <td>-0.015562</td>\n",
              "      <td>0.064902</td>\n",
              "      <td>0.042918</td>\n",
              "      <td>-0.087884</td>\n",
              "      <td>-0.029787</td>\n",
              "      <td>-0.200181</td>\n",
              "      <td>-0.066002</td>\n",
              "      <td>0.834360</td>\n",
              "      <td>0.035078</td>\n",
              "      <td>-0.058760</td>\n",
              "    </tr>\n",
              "    <tr>\n",
              "      <th>truck_size</th>\n",
              "      <td>0.019669</td>\n",
              "      <td>0.013327</td>\n",
              "      <td>-0.021729</td>\n",
              "      <td>-0.041555</td>\n",
              "      <td>-0.011479</td>\n",
              "      <td>-0.024301</td>\n",
              "      <td>0.004342</td>\n",
              "      <td>1.000000</td>\n",
              "      <td>0.053332</td>\n",
              "      <td>-0.039195</td>\n",
              "      <td>0.020763</td>\n",
              "      <td>0.004145</td>\n",
              "      <td>-0.002910</td>\n",
              "      <td>0.057322</td>\n",
              "      <td>-0.013975</td>\n",
              "      <td>-0.004962</td>\n",
              "      <td>0.030348</td>\n",
              "      <td>-0.022319</td>\n",
              "    </tr>\n",
              "    <tr>\n",
              "      <th>load_size</th>\n",
              "      <td>0.031620</td>\n",
              "      <td>-0.004777</td>\n",
              "      <td>-0.016410</td>\n",
              "      <td>0.020183</td>\n",
              "      <td>-0.065048</td>\n",
              "      <td>0.088398</td>\n",
              "      <td>-0.015562</td>\n",
              "      <td>0.053332</td>\n",
              "      <td>1.000000</td>\n",
              "      <td>0.021669</td>\n",
              "      <td>0.579827</td>\n",
              "      <td>0.033353</td>\n",
              "      <td>0.041931</td>\n",
              "      <td>0.072166</td>\n",
              "      <td>0.002306</td>\n",
              "      <td>-0.006592</td>\n",
              "      <td>0.026228</td>\n",
              "      <td>-0.005838</td>\n",
              "    </tr>\n",
              "    <tr>\n",
              "      <th>rental_rate</th>\n",
              "      <td>-0.082596</td>\n",
              "      <td>0.073472</td>\n",
              "      <td>0.487655</td>\n",
              "      <td>0.106308</td>\n",
              "      <td>0.442624</td>\n",
              "      <td>0.183435</td>\n",
              "      <td>0.064902</td>\n",
              "      <td>-0.039195</td>\n",
              "      <td>0.021669</td>\n",
              "      <td>1.000000</td>\n",
              "      <td>0.352867</td>\n",
              "      <td>0.046606</td>\n",
              "      <td>-0.039771</td>\n",
              "      <td>-0.148747</td>\n",
              "      <td>0.045592</td>\n",
              "      <td>0.308487</td>\n",
              "      <td>-0.034165</td>\n",
              "      <td>0.053043</td>\n",
              "    </tr>\n",
              "    <tr>\n",
              "      <th>offer_amount</th>\n",
              "      <td>0.026136</td>\n",
              "      <td>0.095501</td>\n",
              "      <td>0.611675</td>\n",
              "      <td>0.021686</td>\n",
              "      <td>0.730056</td>\n",
              "      <td>0.004863</td>\n",
              "      <td>0.042918</td>\n",
              "      <td>0.020763</td>\n",
              "      <td>0.579827</td>\n",
              "      <td>0.352867</td>\n",
              "      <td>1.000000</td>\n",
              "      <td>0.041211</td>\n",
              "      <td>0.006016</td>\n",
              "      <td>-0.007474</td>\n",
              "      <td>-0.027188</td>\n",
              "      <td>0.347118</td>\n",
              "      <td>0.113271</td>\n",
              "      <td>-0.033841</td>\n",
              "    </tr>\n",
              "    <tr>\n",
              "      <th>insurance_purchased</th>\n",
              "      <td>-0.062219</td>\n",
              "      <td>0.048392</td>\n",
              "      <td>0.036422</td>\n",
              "      <td>-0.008853</td>\n",
              "      <td>0.026897</td>\n",
              "      <td>-0.007964</td>\n",
              "      <td>-0.087884</td>\n",
              "      <td>0.004145</td>\n",
              "      <td>0.033353</td>\n",
              "      <td>0.046606</td>\n",
              "      <td>0.041211</td>\n",
              "      <td>1.000000</td>\n",
              "      <td>0.060546</td>\n",
              "      <td>-0.096493</td>\n",
              "      <td>-0.020578</td>\n",
              "      <td>-0.049464</td>\n",
              "      <td>-0.016172</td>\n",
              "      <td>-0.025841</td>\n",
              "    </tr>\n",
              "    <tr>\n",
              "      <th>renter_verified</th>\n",
              "      <td>0.033087</td>\n",
              "      <td>0.013842</td>\n",
              "      <td>-0.047123</td>\n",
              "      <td>-0.050181</td>\n",
              "      <td>-0.021080</td>\n",
              "      <td>-0.055087</td>\n",
              "      <td>-0.029787</td>\n",
              "      <td>-0.002910</td>\n",
              "      <td>0.041931</td>\n",
              "      <td>-0.039771</td>\n",
              "      <td>0.006016</td>\n",
              "      <td>0.060546</td>\n",
              "      <td>1.000000</td>\n",
              "      <td>0.069436</td>\n",
              "      <td>-0.120517</td>\n",
              "      <td>-0.055489</td>\n",
              "      <td>0.043051</td>\n",
              "      <td>-0.113933</td>\n",
              "    </tr>\n",
              "    <tr>\n",
              "      <th>success</th>\n",
              "      <td>-0.017738</td>\n",
              "      <td>-0.095166</td>\n",
              "      <td>-0.102124</td>\n",
              "      <td>-0.194743</td>\n",
              "      <td>-0.047282</td>\n",
              "      <td>-0.093979</td>\n",
              "      <td>-0.200181</td>\n",
              "      <td>0.057322</td>\n",
              "      <td>0.072166</td>\n",
              "      <td>-0.148747</td>\n",
              "      <td>-0.007474</td>\n",
              "      <td>-0.096493</td>\n",
              "      <td>0.069436</td>\n",
              "      <td>1.000000</td>\n",
              "      <td>-0.093005</td>\n",
              "      <td>-0.223335</td>\n",
              "      <td>-0.100511</td>\n",
              "      <td>-0.088726</td>\n",
              "    </tr>\n",
              "    <tr>\n",
              "      <th>age</th>\n",
              "      <td>0.017379</td>\n",
              "      <td>-0.036740</td>\n",
              "      <td>0.009966</td>\n",
              "      <td>0.041906</td>\n",
              "      <td>-0.031198</td>\n",
              "      <td>0.040885</td>\n",
              "      <td>-0.066002</td>\n",
              "      <td>-0.013975</td>\n",
              "      <td>0.002306</td>\n",
              "      <td>0.045592</td>\n",
              "      <td>-0.027188</td>\n",
              "      <td>-0.020578</td>\n",
              "      <td>-0.120517</td>\n",
              "      <td>-0.093005</td>\n",
              "      <td>1.000000</td>\n",
              "      <td>-0.043567</td>\n",
              "      <td>-0.013654</td>\n",
              "      <td>0.976694</td>\n",
              "    </tr>\n",
              "    <tr>\n",
              "      <th>dist_diff</th>\n",
              "      <td>-0.075049</td>\n",
              "      <td>0.114995</td>\n",
              "      <td>0.515405</td>\n",
              "      <td>0.265023</td>\n",
              "      <td>0.451826</td>\n",
              "      <td>0.304094</td>\n",
              "      <td>0.834360</td>\n",
              "      <td>-0.004962</td>\n",
              "      <td>-0.006592</td>\n",
              "      <td>0.308487</td>\n",
              "      <td>0.347118</td>\n",
              "      <td>-0.049464</td>\n",
              "      <td>-0.055489</td>\n",
              "      <td>-0.223335</td>\n",
              "      <td>-0.043567</td>\n",
              "      <td>1.000000</td>\n",
              "      <td>0.007872</td>\n",
              "      <td>-0.039428</td>\n",
              "    </tr>\n",
              "    <tr>\n",
              "      <th>drop_pick_date_diff</th>\n",
              "      <td>0.792380</td>\n",
              "      <td>0.062963</td>\n",
              "      <td>-0.046763</td>\n",
              "      <td>-0.105225</td>\n",
              "      <td>0.116935</td>\n",
              "      <td>-0.184932</td>\n",
              "      <td>0.035078</td>\n",
              "      <td>0.030348</td>\n",
              "      <td>0.026228</td>\n",
              "      <td>-0.034165</td>\n",
              "      <td>0.113271</td>\n",
              "      <td>-0.016172</td>\n",
              "      <td>0.043051</td>\n",
              "      <td>-0.100511</td>\n",
              "      <td>-0.013654</td>\n",
              "      <td>0.007872</td>\n",
              "      <td>1.000000</td>\n",
              "      <td>-0.013848</td>\n",
              "    </tr>\n",
              "    <tr>\n",
              "      <th>agerange</th>\n",
              "      <td>0.017560</td>\n",
              "      <td>-0.038470</td>\n",
              "      <td>0.004199</td>\n",
              "      <td>0.039089</td>\n",
              "      <td>-0.034881</td>\n",
              "      <td>0.046792</td>\n",
              "      <td>-0.058760</td>\n",
              "      <td>-0.022319</td>\n",
              "      <td>-0.005838</td>\n",
              "      <td>0.053043</td>\n",
              "      <td>-0.033841</td>\n",
              "      <td>-0.025841</td>\n",
              "      <td>-0.113933</td>\n",
              "      <td>-0.088726</td>\n",
              "      <td>0.976694</td>\n",
              "      <td>-0.039428</td>\n",
              "      <td>-0.013848</td>\n",
              "      <td>1.000000</td>\n",
              "    </tr>\n",
              "  </tbody>\n",
              "</table>\n",
              "</div>"
            ],
            "text/plain": [
              "                         dropoff_date_difference  ...  agerange\n",
              "dropoff_date_difference                 1.000000  ...  0.017560\n",
              "pickup_date_difference                 -0.510036  ... -0.038470\n",
              "origin_to_destination                  -0.105278  ...  0.004199\n",
              "origin_to_pickup                       -0.063973  ...  0.039089\n",
              "pickup_to_dropoff                       0.002782  ... -0.034881\n",
              "destination_to_dropoff                 -0.154441  ...  0.046792\n",
              "out_of_way_score                       -0.019980  ... -0.058760\n",
              "truck_size                              0.019669  ... -0.022319\n",
              "load_size                               0.031620  ... -0.005838\n",
              "rental_rate                            -0.082596  ...  0.053043\n",
              "offer_amount                            0.026136  ... -0.033841\n",
              "insurance_purchased                    -0.062219  ... -0.025841\n",
              "renter_verified                         0.033087  ... -0.113933\n",
              "success                                -0.017738  ... -0.088726\n",
              "age                                     0.017379  ...  0.976694\n",
              "dist_diff                              -0.075049  ... -0.039428\n",
              "drop_pick_date_diff                     0.792380  ... -0.013848\n",
              "agerange                                0.017560  ...  1.000000\n",
              "\n",
              "[18 rows x 18 columns]"
            ]
          },
          "metadata": {
            "tags": []
          },
          "execution_count": 46
        }
      ]
    },
    {
      "cell_type": "markdown",
      "metadata": {
        "id": "nKHxPTG_AeIo"
      },
      "source": [
        "**3.3 Examine the multicolinearity among features**"
      ]
    },
    {
      "cell_type": "code",
      "metadata": {
        "colab": {
          "base_uri": "https://localhost:8080/",
          "height": 640
        },
        "id": "2GmujC-zARw-",
        "outputId": "48962210-52ef-4a51-e212-8daa9cbdb219"
      },
      "source": [
        "sns.set(style = 'white')\n",
        "# create a mask for the upper triangle\n",
        "mask = np.zeros_like(corr, dtype = np.bool)\n",
        "mask[np.triu_indices_from(mask)] = True\n",
        "\n",
        "# # set up the matplotlib figure\n",
        "f, ax = plt.subplots(figsize = (10, 8))\n",
        "\n",
        "# generate a custom diverging colormap\n",
        "cmap = sns.diverging_palette(220, 10, as_cmap = True)\n",
        "\n",
        "# Draw the heatmap with the mask and correct aspect ratio\n",
        "## annot= true, add the text into each cells\n",
        "sns.heatmap(corr, annot = True, mask = mask, cmap = cmap, vmax = 1, center = 0,\n",
        "            square = True, linewidth = 0.5, cbar_kws = {\"shrink\": 0.5})\n",
        "\n",
        "ax.set_title('Multi-Collinearity of Features')"
      ],
      "execution_count": null,
      "outputs": [
        {
          "output_type": "execute_result",
          "data": {
            "text/plain": [
              "Text(0.5, 1.0, 'Multi-Collinearity of Features')"
            ]
          },
          "metadata": {
            "tags": []
          },
          "execution_count": 47
        },
        {
          "output_type": "display_data",
          "data": {
            "image/png": "[encoded data removed]",
            "text/plain": [
              "<Figure size 720x576 with 2 Axes>"
            ]
          },
          "metadata": {
            "tags": []
          }
        }
      ]
    },
    {
      "cell_type": "markdown",
      "metadata": {
        "id": "r6fnvPMaA7SB"
      },
      "source": [
        "**As we would expect, 'out_of_way_score' and 'dist_diff', 'age' and'agerange',  the other distance features are highly correlated, so we could drop them off**"
      ]
    },
    {
      "cell_type": "code",
      "metadata": {
        "colab": {
          "base_uri": "https://localhost:8080/",
          "height": 204
        },
        "id": "YQPY8El4ASCJ",
        "outputId": "0a4bb6cc-dd94-4268-9ce7-e9424522bc88"
      },
      "source": [
        "df2 = df_enc.drop(['dist_diff', 'agerange',\n",
        "                   'dropoff_date_difference',\n",
        "                   'pickup_date_difference',\n",
        "                   'origin_to_destination',\n",
        "                   'origin_to_pickup',\n",
        "                   'destination_to_dropoff',\n",
        "                   'pickup_to_dropoff', 'drop_pick_date_range', 'offer_range',\n",
        "                   'rental_rate_range'], axis = 1)\n",
        "df2.head()"
      ],
      "execution_count": null,
      "outputs": [
        {
          "output_type": "execute_result",
          "data": {
            "text/html": [
              "<div>\n",
              "<style scoped>\n",
              "    .dataframe tbody tr th:only-of-type {\n",
              "        vertical-align: middle;\n",
              "    }\n",
              "\n",
              "    .dataframe tbody tr th {\n",
              "        vertical-align: top;\n",
              "    }\n",
              "\n",
              "    .dataframe thead th {\n",
              "        text-align: right;\n",
              "    }\n",
              "</style>\n",
              "<table border=\"1\" class=\"dataframe\">\n",
              "  <thead>\n",
              "    <tr style=\"text-align: right;\">\n",
              "      <th></th>\n",
              "      <th>out_of_way_score</th>\n",
              "      <th>truck_size</th>\n",
              "      <th>load_size</th>\n",
              "      <th>rental_rate</th>\n",
              "      <th>offer_amount</th>\n",
              "      <th>insurance_purchased</th>\n",
              "      <th>renter_verified</th>\n",
              "      <th>success</th>\n",
              "      <th>age</th>\n",
              "      <th>drop_pick_date_diff</th>\n",
              "    </tr>\n",
              "  </thead>\n",
              "  <tbody>\n",
              "    <tr>\n",
              "      <th>0</th>\n",
              "      <td>15.14</td>\n",
              "      <td>1</td>\n",
              "      <td>1</td>\n",
              "      <td>538</td>\n",
              "      <td>35</td>\n",
              "      <td>1</td>\n",
              "      <td>1</td>\n",
              "      <td>0</td>\n",
              "      <td>61</td>\n",
              "      <td>7</td>\n",
              "    </tr>\n",
              "    <tr>\n",
              "      <th>1</th>\n",
              "      <td>4.37</td>\n",
              "      <td>0</td>\n",
              "      <td>1</td>\n",
              "      <td>3226</td>\n",
              "      <td>45</td>\n",
              "      <td>1</td>\n",
              "      <td>1</td>\n",
              "      <td>0</td>\n",
              "      <td>63</td>\n",
              "      <td>8</td>\n",
              "    </tr>\n",
              "    <tr>\n",
              "      <th>2</th>\n",
              "      <td>2.88</td>\n",
              "      <td>1</td>\n",
              "      <td>1</td>\n",
              "      <td>1123</td>\n",
              "      <td>45</td>\n",
              "      <td>1</td>\n",
              "      <td>1</td>\n",
              "      <td>0</td>\n",
              "      <td>62</td>\n",
              "      <td>12</td>\n",
              "    </tr>\n",
              "    <tr>\n",
              "      <th>3</th>\n",
              "      <td>10.97</td>\n",
              "      <td>0</td>\n",
              "      <td>1</td>\n",
              "      <td>1567</td>\n",
              "      <td>35</td>\n",
              "      <td>1</td>\n",
              "      <td>1</td>\n",
              "      <td>0</td>\n",
              "      <td>51</td>\n",
              "      <td>5</td>\n",
              "    </tr>\n",
              "    <tr>\n",
              "      <th>4</th>\n",
              "      <td>17.02</td>\n",
              "      <td>1</td>\n",
              "      <td>1</td>\n",
              "      <td>1523</td>\n",
              "      <td>35</td>\n",
              "      <td>1</td>\n",
              "      <td>1</td>\n",
              "      <td>0</td>\n",
              "      <td>56</td>\n",
              "      <td>6</td>\n",
              "    </tr>\n",
              "  </tbody>\n",
              "</table>\n",
              "</div>"
            ],
            "text/plain": [
              "   out_of_way_score  truck_size  load_size  ...  success  age  drop_pick_date_diff\n",
              "0             15.14           1          1  ...        0   61                    7\n",
              "1              4.37           0          1  ...        0   63                    8\n",
              "2              2.88           1          1  ...        0   62                   12\n",
              "3             10.97           0          1  ...        0   51                    5\n",
              "4             17.02           1          1  ...        0   56                    6\n",
              "\n",
              "[5 rows x 10 columns]"
            ]
          },
          "metadata": {
            "tags": []
          },
          "execution_count": 48
        }
      ]
    },
    {
      "cell_type": "code",
      "metadata": {
        "colab": {
          "base_uri": "https://localhost:8080/"
        },
        "id": "tU2TizfHQjb_",
        "outputId": "5356460e-7b0b-416f-ffa9-8c16c53b2095"
      },
      "source": [
        "colnames = df2.columns.tolist()\n",
        "colnames"
      ],
      "execution_count": null,
      "outputs": [
        {
          "output_type": "execute_result",
          "data": {
            "text/plain": [
              "['out_of_way_score',\n",
              " 'truck_size',\n",
              " 'load_size',\n",
              " 'rental_rate',\n",
              " 'offer_amount',\n",
              " 'insurance_purchased',\n",
              " 'renter_verified',\n",
              " 'success',\n",
              " 'age',\n",
              " 'drop_pick_date_diff']"
            ]
          },
          "metadata": {
            "tags": []
          },
          "execution_count": 49
        }
      ]
    },
    {
      "cell_type": "code",
      "metadata": {
        "colab": {
          "base_uri": "https://localhost:8080/",
          "height": 204
        },
        "id": "X3rxdDUbQ0KZ",
        "outputId": "e988b35d-2ede-4f85-f1c0-977f080a2f79"
      },
      "source": [
        "df2 = df2[['out_of_way_score',\n",
        " 'truck_size',\n",
        " 'load_size',\n",
        " 'rental_rate',\n",
        " 'offer_amount',\n",
        " 'insurance_purchased',\n",
        " 'renter_verified',\n",
        " 'age',\n",
        " 'drop_pick_date_diff',\n",
        " 'success']]\n",
        "df2.head()"
      ],
      "execution_count": null,
      "outputs": [
        {
          "output_type": "execute_result",
          "data": {
            "text/html": [
              "<div>\n",
              "<style scoped>\n",
              "    .dataframe tbody tr th:only-of-type {\n",
              "        vertical-align: middle;\n",
              "    }\n",
              "\n",
              "    .dataframe tbody tr th {\n",
              "        vertical-align: top;\n",
              "    }\n",
              "\n",
              "    .dataframe thead th {\n",
              "        text-align: right;\n",
              "    }\n",
              "</style>\n",
              "<table border=\"1\" class=\"dataframe\">\n",
              "  <thead>\n",
              "    <tr style=\"text-align: right;\">\n",
              "      <th></th>\n",
              "      <th>out_of_way_score</th>\n",
              "      <th>truck_size</th>\n",
              "      <th>load_size</th>\n",
              "      <th>rental_rate</th>\n",
              "      <th>offer_amount</th>\n",
              "      <th>insurance_purchased</th>\n",
              "      <th>renter_verified</th>\n",
              "      <th>age</th>\n",
              "      <th>drop_pick_date_diff</th>\n",
              "      <th>success</th>\n",
              "    </tr>\n",
              "  </thead>\n",
              "  <tbody>\n",
              "    <tr>\n",
              "      <th>0</th>\n",
              "      <td>15.14</td>\n",
              "      <td>1</td>\n",
              "      <td>1</td>\n",
              "      <td>538</td>\n",
              "      <td>35</td>\n",
              "      <td>1</td>\n",
              "      <td>1</td>\n",
              "      <td>61</td>\n",
              "      <td>7</td>\n",
              "      <td>0</td>\n",
              "    </tr>\n",
              "    <tr>\n",
              "      <th>1</th>\n",
              "      <td>4.37</td>\n",
              "      <td>0</td>\n",
              "      <td>1</td>\n",
              "      <td>3226</td>\n",
              "      <td>45</td>\n",
              "      <td>1</td>\n",
              "      <td>1</td>\n",
              "      <td>63</td>\n",
              "      <td>8</td>\n",
              "      <td>0</td>\n",
              "    </tr>\n",
              "    <tr>\n",
              "      <th>2</th>\n",
              "      <td>2.88</td>\n",
              "      <td>1</td>\n",
              "      <td>1</td>\n",
              "      <td>1123</td>\n",
              "      <td>45</td>\n",
              "      <td>1</td>\n",
              "      <td>1</td>\n",
              "      <td>62</td>\n",
              "      <td>12</td>\n",
              "      <td>0</td>\n",
              "    </tr>\n",
              "    <tr>\n",
              "      <th>3</th>\n",
              "      <td>10.97</td>\n",
              "      <td>0</td>\n",
              "      <td>1</td>\n",
              "      <td>1567</td>\n",
              "      <td>35</td>\n",
              "      <td>1</td>\n",
              "      <td>1</td>\n",
              "      <td>51</td>\n",
              "      <td>5</td>\n",
              "      <td>0</td>\n",
              "    </tr>\n",
              "    <tr>\n",
              "      <th>4</th>\n",
              "      <td>17.02</td>\n",
              "      <td>1</td>\n",
              "      <td>1</td>\n",
              "      <td>1523</td>\n",
              "      <td>35</td>\n",
              "      <td>1</td>\n",
              "      <td>1</td>\n",
              "      <td>56</td>\n",
              "      <td>6</td>\n",
              "      <td>0</td>\n",
              "    </tr>\n",
              "  </tbody>\n",
              "</table>\n",
              "</div>"
            ],
            "text/plain": [
              "   out_of_way_score  truck_size  load_size  ...  age  drop_pick_date_diff  success\n",
              "0             15.14           1          1  ...   61                    7        0\n",
              "1              4.37           0          1  ...   63                    8        0\n",
              "2              2.88           1          1  ...   62                   12        0\n",
              "3             10.97           0          1  ...   51                    5        0\n",
              "4             17.02           1          1  ...   56                    6        0\n",
              "\n",
              "[5 rows x 10 columns]"
            ]
          },
          "metadata": {
            "tags": []
          },
          "execution_count": 50
        }
      ]
    },
    {
      "cell_type": "code",
      "metadata": {
        "colab": {
          "base_uri": "https://localhost:8080/",
          "height": 359
        },
        "id": "BKkMUMC1zclu",
        "outputId": "504c2a69-79b9-4f95-d5ec-64fe09965352"
      },
      "source": [
        "corr2 = df2.corr(method = 'spearman')\n",
        "corr2"
      ],
      "execution_count": null,
      "outputs": [
        {
          "output_type": "execute_result",
          "data": {
            "text/html": [
              "<div>\n",
              "<style scoped>\n",
              "    .dataframe tbody tr th:only-of-type {\n",
              "        vertical-align: middle;\n",
              "    }\n",
              "\n",
              "    .dataframe tbody tr th {\n",
              "        vertical-align: top;\n",
              "    }\n",
              "\n",
              "    .dataframe thead th {\n",
              "        text-align: right;\n",
              "    }\n",
              "</style>\n",
              "<table border=\"1\" class=\"dataframe\">\n",
              "  <thead>\n",
              "    <tr style=\"text-align: right;\">\n",
              "      <th></th>\n",
              "      <th>out_of_way_score</th>\n",
              "      <th>truck_size</th>\n",
              "      <th>load_size</th>\n",
              "      <th>rental_rate</th>\n",
              "      <th>offer_amount</th>\n",
              "      <th>insurance_purchased</th>\n",
              "      <th>renter_verified</th>\n",
              "      <th>age</th>\n",
              "      <th>drop_pick_date_diff</th>\n",
              "      <th>success</th>\n",
              "    </tr>\n",
              "  </thead>\n",
              "  <tbody>\n",
              "    <tr>\n",
              "      <th>out_of_way_score</th>\n",
              "      <td>1.000000</td>\n",
              "      <td>0.004342</td>\n",
              "      <td>-0.015562</td>\n",
              "      <td>0.064902</td>\n",
              "      <td>0.042918</td>\n",
              "      <td>-0.087884</td>\n",
              "      <td>-0.029787</td>\n",
              "      <td>-0.066002</td>\n",
              "      <td>0.035078</td>\n",
              "      <td>-0.200181</td>\n",
              "    </tr>\n",
              "    <tr>\n",
              "      <th>truck_size</th>\n",
              "      <td>0.004342</td>\n",
              "      <td>1.000000</td>\n",
              "      <td>0.053332</td>\n",
              "      <td>-0.039195</td>\n",
              "      <td>0.020763</td>\n",
              "      <td>0.004145</td>\n",
              "      <td>-0.002910</td>\n",
              "      <td>-0.013975</td>\n",
              "      <td>0.030348</td>\n",
              "      <td>0.057322</td>\n",
              "    </tr>\n",
              "    <tr>\n",
              "      <th>load_size</th>\n",
              "      <td>-0.015562</td>\n",
              "      <td>0.053332</td>\n",
              "      <td>1.000000</td>\n",
              "      <td>0.021669</td>\n",
              "      <td>0.579827</td>\n",
              "      <td>0.033353</td>\n",
              "      <td>0.041931</td>\n",
              "      <td>0.002306</td>\n",
              "      <td>0.026228</td>\n",
              "      <td>0.072166</td>\n",
              "    </tr>\n",
              "    <tr>\n",
              "      <th>rental_rate</th>\n",
              "      <td>0.064902</td>\n",
              "      <td>-0.039195</td>\n",
              "      <td>0.021669</td>\n",
              "      <td>1.000000</td>\n",
              "      <td>0.352867</td>\n",
              "      <td>0.046606</td>\n",
              "      <td>-0.039771</td>\n",
              "      <td>0.045592</td>\n",
              "      <td>-0.034165</td>\n",
              "      <td>-0.148747</td>\n",
              "    </tr>\n",
              "    <tr>\n",
              "      <th>offer_amount</th>\n",
              "      <td>0.042918</td>\n",
              "      <td>0.020763</td>\n",
              "      <td>0.579827</td>\n",
              "      <td>0.352867</td>\n",
              "      <td>1.000000</td>\n",
              "      <td>0.041211</td>\n",
              "      <td>0.006016</td>\n",
              "      <td>-0.027188</td>\n",
              "      <td>0.113271</td>\n",
              "      <td>-0.007474</td>\n",
              "    </tr>\n",
              "    <tr>\n",
              "      <th>insurance_purchased</th>\n",
              "      <td>-0.087884</td>\n",
              "      <td>0.004145</td>\n",
              "      <td>0.033353</td>\n",
              "      <td>0.046606</td>\n",
              "      <td>0.041211</td>\n",
              "      <td>1.000000</td>\n",
              "      <td>0.060546</td>\n",
              "      <td>-0.020578</td>\n",
              "      <td>-0.016172</td>\n",
              "      <td>-0.096493</td>\n",
              "    </tr>\n",
              "    <tr>\n",
              "      <th>renter_verified</th>\n",
              "      <td>-0.029787</td>\n",
              "      <td>-0.002910</td>\n",
              "      <td>0.041931</td>\n",
              "      <td>-0.039771</td>\n",
              "      <td>0.006016</td>\n",
              "      <td>0.060546</td>\n",
              "      <td>1.000000</td>\n",
              "      <td>-0.120517</td>\n",
              "      <td>0.043051</td>\n",
              "      <td>0.069436</td>\n",
              "    </tr>\n",
              "    <tr>\n",
              "      <th>age</th>\n",
              "      <td>-0.066002</td>\n",
              "      <td>-0.013975</td>\n",
              "      <td>0.002306</td>\n",
              "      <td>0.045592</td>\n",
              "      <td>-0.027188</td>\n",
              "      <td>-0.020578</td>\n",
              "      <td>-0.120517</td>\n",
              "      <td>1.000000</td>\n",
              "      <td>-0.013654</td>\n",
              "      <td>-0.093005</td>\n",
              "    </tr>\n",
              "    <tr>\n",
              "      <th>drop_pick_date_diff</th>\n",
              "      <td>0.035078</td>\n",
              "      <td>0.030348</td>\n",
              "      <td>0.026228</td>\n",
              "      <td>-0.034165</td>\n",
              "      <td>0.113271</td>\n",
              "      <td>-0.016172</td>\n",
              "      <td>0.043051</td>\n",
              "      <td>-0.013654</td>\n",
              "      <td>1.000000</td>\n",
              "      <td>-0.100511</td>\n",
              "    </tr>\n",
              "    <tr>\n",
              "      <th>success</th>\n",
              "      <td>-0.200181</td>\n",
              "      <td>0.057322</td>\n",
              "      <td>0.072166</td>\n",
              "      <td>-0.148747</td>\n",
              "      <td>-0.007474</td>\n",
              "      <td>-0.096493</td>\n",
              "      <td>0.069436</td>\n",
              "      <td>-0.093005</td>\n",
              "      <td>-0.100511</td>\n",
              "      <td>1.000000</td>\n",
              "    </tr>\n",
              "  </tbody>\n",
              "</table>\n",
              "</div>"
            ],
            "text/plain": [
              "                     out_of_way_score  ...   success\n",
              "out_of_way_score             1.000000  ... -0.200181\n",
              "truck_size                   0.004342  ...  0.057322\n",
              "load_size                   -0.015562  ...  0.072166\n",
              "rental_rate                  0.064902  ... -0.148747\n",
              "offer_amount                 0.042918  ... -0.007474\n",
              "insurance_purchased         -0.087884  ... -0.096493\n",
              "renter_verified             -0.029787  ...  0.069436\n",
              "age                         -0.066002  ... -0.093005\n",
              "drop_pick_date_diff          0.035078  ... -0.100511\n",
              "success                     -0.200181  ...  1.000000\n",
              "\n",
              "[10 rows x 10 columns]"
            ]
          },
          "metadata": {
            "tags": []
          },
          "execution_count": 51
        }
      ]
    },
    {
      "cell_type": "code",
      "metadata": {
        "colab": {
          "base_uri": "https://localhost:8080/",
          "height": 626
        },
        "id": "6B2jnY8Jzc6u",
        "outputId": "9b80326f-6490-4c35-d602-a45416a29287"
      },
      "source": [
        "sns.set(style = 'white')\n",
        "\n",
        "mask = np.zeros_like(corr2, dtype = np.bool)\n",
        "mask[np.triu_indices_from(mask)] = True\n",
        "\n",
        "f, ax = plt.subplots(figsize = (10, 8))\n",
        "\n",
        "cmap = sns.diverging_palette(220, 10, as_cmap = True)\n",
        "\n",
        "sns.heatmap(corr2, annot = True, mask = mask, cmap = cmap, vmax = 1, center = 0,\n",
        "            square = True, linewidth = 0.5, cbar_kws = {\"shrink\": 0.5})\n",
        "\n",
        "ax.set_title('Multi-Collinearity of Features')"
      ],
      "execution_count": null,
      "outputs": [
        {
          "output_type": "execute_result",
          "data": {
            "text/plain": [
              "Text(0.5, 1.0, 'Multi-Collinearity of Features')"
            ]
          },
          "metadata": {
            "tags": []
          },
          "execution_count": 52
        },
        {
          "output_type": "display_data",
          "data": {
            "image/png": "[encoded data removed]",
            "text/plain": [
              "<Figure size 720x576 with 2 Axes>"
            ]
          },
          "metadata": {
            "tags": []
          }
        }
      ]
    },
    {
      "cell_type": "markdown",
      "metadata": {
        "id": "jxXuT4hH66Wb"
      },
      "source": [
        "**3.2 Balance the target variable**\n",
        "\n",
        "\n"
      ]
    },
    {
      "cell_type": "code",
      "metadata": {
        "id": "j9ujnmcn8c0d"
      },
      "source": [
        "X = df2.drop(['success'], axis = 1)\n",
        "y = df2['success']\n",
        "X_train, X_test, y_train, y_test = train_test_split(X, y, random_state = 42, test_size = 0.2)"
      ],
      "execution_count": null,
      "outputs": []
    },
    {
      "cell_type": "markdown",
      "metadata": {
        "id": "qRZZH8lDiKsk"
      },
      "source": [
        "**Normalize the numeric features.**"
      ]
    },
    {
      "cell_type": "code",
      "metadata": {
        "id": "BLX11ZQES73i"
      },
      "source": [
        "train_numerical_features = list(X_train.select_dtypes(include=['int64', 'float64', 'int32']).columns)\n",
        "ss_scaler = MinMaxScaler()\n",
        "X_train_ss = pd.DataFrame(data = X_train)\n",
        "X_train_ss[train_numerical_features] = ss_scaler.fit_transform(X_train_ss[train_numerical_features])\n",
        "X_test_ss = pd.DataFrame(data = X_test)\n",
        "X_test_ss[train_numerical_features] = ss_scaler.fit_transform(X_test_ss[train_numerical_features])"
      ],
      "execution_count": null,
      "outputs": []
    },
    {
      "cell_type": "code",
      "metadata": {
        "colab": {
          "base_uri": "https://localhost:8080/",
          "height": 204
        },
        "id": "fKwUPKWO_FWq",
        "outputId": "114cd2ff-69c3-4920-b5ce-96d85e05a1fa"
      },
      "source": [
        "X_train_ss.head()"
      ],
      "execution_count": null,
      "outputs": [
        {
          "output_type": "execute_result",
          "data": {
            "text/html": [
              "<div>\n",
              "<style scoped>\n",
              "    .dataframe tbody tr th:only-of-type {\n",
              "        vertical-align: middle;\n",
              "    }\n",
              "\n",
              "    .dataframe tbody tr th {\n",
              "        vertical-align: top;\n",
              "    }\n",
              "\n",
              "    .dataframe thead th {\n",
              "        text-align: right;\n",
              "    }\n",
              "</style>\n",
              "<table border=\"1\" class=\"dataframe\">\n",
              "  <thead>\n",
              "    <tr style=\"text-align: right;\">\n",
              "      <th></th>\n",
              "      <th>out_of_way_score</th>\n",
              "      <th>truck_size</th>\n",
              "      <th>load_size</th>\n",
              "      <th>rental_rate</th>\n",
              "      <th>offer_amount</th>\n",
              "      <th>insurance_purchased</th>\n",
              "      <th>renter_verified</th>\n",
              "      <th>age</th>\n",
              "      <th>drop_pick_date_diff</th>\n",
              "    </tr>\n",
              "  </thead>\n",
              "  <tbody>\n",
              "    <tr>\n",
              "      <th>646</th>\n",
              "      <td>0.352912</td>\n",
              "      <td>0</td>\n",
              "      <td>0.0</td>\n",
              "      <td>0.123617</td>\n",
              "      <td>0.238095</td>\n",
              "      <td>1</td>\n",
              "      <td>1</td>\n",
              "      <td>0.734375</td>\n",
              "      <td>0.146341</td>\n",
              "    </tr>\n",
              "    <tr>\n",
              "      <th>894</th>\n",
              "      <td>0.088855</td>\n",
              "      <td>1</td>\n",
              "      <td>0.0</td>\n",
              "      <td>0.413540</td>\n",
              "      <td>0.238095</td>\n",
              "      <td>1</td>\n",
              "      <td>1</td>\n",
              "      <td>0.484375</td>\n",
              "      <td>0.243902</td>\n",
              "    </tr>\n",
              "    <tr>\n",
              "      <th>769</th>\n",
              "      <td>0.223896</td>\n",
              "      <td>0</td>\n",
              "      <td>0.0</td>\n",
              "      <td>0.205261</td>\n",
              "      <td>0.000000</td>\n",
              "      <td>0</td>\n",
              "      <td>1</td>\n",
              "      <td>0.312500</td>\n",
              "      <td>0.170732</td>\n",
              "    </tr>\n",
              "    <tr>\n",
              "      <th>293</th>\n",
              "      <td>0.265060</td>\n",
              "      <td>1</td>\n",
              "      <td>1.0</td>\n",
              "      <td>0.608308</td>\n",
              "      <td>0.714286</td>\n",
              "      <td>1</td>\n",
              "      <td>0</td>\n",
              "      <td>0.609375</td>\n",
              "      <td>0.146341</td>\n",
              "    </tr>\n",
              "    <tr>\n",
              "      <th>113</th>\n",
              "      <td>0.184739</td>\n",
              "      <td>1</td>\n",
              "      <td>1.0</td>\n",
              "      <td>0.090844</td>\n",
              "      <td>0.571429</td>\n",
              "      <td>0</td>\n",
              "      <td>1</td>\n",
              "      <td>0.531250</td>\n",
              "      <td>0.146341</td>\n",
              "    </tr>\n",
              "  </tbody>\n",
              "</table>\n",
              "</div>"
            ],
            "text/plain": [
              "     out_of_way_score  truck_size  ...       age  drop_pick_date_diff\n",
              "646          0.352912           0  ...  0.734375             0.146341\n",
              "894          0.088855           1  ...  0.484375             0.243902\n",
              "769          0.223896           0  ...  0.312500             0.170732\n",
              "293          0.265060           1  ...  0.609375             0.146341\n",
              "113          0.184739           1  ...  0.531250             0.146341\n",
              "\n",
              "[5 rows x 9 columns]"
            ]
          },
          "metadata": {
            "tags": []
          },
          "execution_count": 55
        }
      ]
    },
    {
      "cell_type": "markdown",
      "metadata": {
        "id": "9iehQx1X-RoU"
      },
      "source": [
        "**Two oversampling methods are tested: randomoversamping and SMOTE**"
      ]
    },
    {
      "cell_type": "code",
      "metadata": {
        "id": "MqkB8eWb0k1E"
      },
      "source": [
        "over1 = RandomOverSampler(sampling_strategy = 'minority')\n",
        "X_train1, y_train1 = over1.fit_resample(X_train_ss, y_train)"
      ],
      "execution_count": null,
      "outputs": []
    },
    {
      "cell_type": "code",
      "metadata": {
        "colab": {
          "base_uri": "https://localhost:8080/"
        },
        "id": "Zqg5tab6ETU9",
        "outputId": "98daff6b-9188-4ff9-8cb7-6ac6efd19878"
      },
      "source": [
        "X_train1"
      ],
      "execution_count": null,
      "outputs": [
        {
          "output_type": "execute_result",
          "data": {
            "text/plain": [
              "array([[0.35291165, 0.        , 0.        , ..., 1.        , 0.734375  ,\n",
              "        0.14634146],\n",
              "       [0.08885542, 1.        , 0.        , ..., 1.        , 0.484375  ,\n",
              "        0.24390244],\n",
              "       [0.22389558, 0.        , 0.        , ..., 1.        , 0.3125    ,\n",
              "        0.17073171],\n",
              "       ...,\n",
              "       [0.00953815, 0.        , 1.        , ..., 1.        , 0.21875   ,\n",
              "        0.34146341],\n",
              "       [0.18574297, 1.        , 0.        , ..., 1.        , 0.203125  ,\n",
              "        0.        ],\n",
              "       [0.19277108, 1.        , 0.        , ..., 1.        , 0.703125  ,\n",
              "        0.09756098]])"
            ]
          },
          "metadata": {
            "tags": []
          },
          "execution_count": 57
        }
      ]
    },
    {
      "cell_type": "code",
      "metadata": {
        "colab": {
          "base_uri": "https://localhost:8080/"
        },
        "id": "H15cQZgPFW57",
        "outputId": "a4cf4ebd-9d89-400c-af71-ae082f454b9d"
      },
      "source": [
        "Counter(y_train1)"
      ],
      "execution_count": null,
      "outputs": [
        {
          "output_type": "execute_result",
          "data": {
            "text/plain": [
              "Counter({0: 690, 1: 690})"
            ]
          },
          "metadata": {
            "tags": []
          },
          "execution_count": 58
        }
      ]
    },
    {
      "cell_type": "code",
      "metadata": {
        "id": "2eQt0Z2GDNz3"
      },
      "source": [
        "over2 = SMOTE(sampling_strategy=0.4)\n",
        "X_train2, y_train2 = over2.fit_resample(X_train_ss, y_train)"
      ],
      "execution_count": null,
      "outputs": []
    },
    {
      "cell_type": "code",
      "metadata": {
        "colab": {
          "base_uri": "https://localhost:8080/"
        },
        "id": "cBbQGzPxDOFf",
        "outputId": "e1adb485-7dc0-4f09-e7b1-79215c2e3cf0"
      },
      "source": [
        "X_train2"
      ],
      "execution_count": null,
      "outputs": [
        {
          "output_type": "execute_result",
          "data": {
            "text/plain": [
              "array([[0.35291165, 0.        , 0.        , ..., 1.        , 0.734375  ,\n",
              "        0.14634146],\n",
              "       [0.08885542, 1.        , 0.        , ..., 1.        , 0.484375  ,\n",
              "        0.24390244],\n",
              "       [0.22389558, 0.        , 0.        , ..., 1.        , 0.3125    ,\n",
              "        0.17073171],\n",
              "       ...,\n",
              "       [0.54732101, 1.        , 1.        , ..., 0.        , 0.52399143,\n",
              "        0.18263861],\n",
              "       [0.29307566, 1.        , 0.        , ..., 1.        , 0.58217468,\n",
              "        0.19873046],\n",
              "       [0.44179312, 1.        , 0.        , ..., 0.        , 0.34105227,\n",
              "        0.10328124]])"
            ]
          },
          "metadata": {
            "tags": []
          },
          "execution_count": 60
        }
      ]
    },
    {
      "cell_type": "code",
      "metadata": {
        "colab": {
          "base_uri": "https://localhost:8080/"
        },
        "id": "eVkIAME_DOUu",
        "outputId": "52887c23-0deb-428d-91f9-e043a2688ead"
      },
      "source": [
        "Counter(y_train2)"
      ],
      "execution_count": null,
      "outputs": [
        {
          "output_type": "execute_result",
          "data": {
            "text/plain": [
              "Counter({0: 690, 1: 276})"
            ]
          },
          "metadata": {
            "tags": []
          },
          "execution_count": 61
        }
      ]
    },
    {
      "cell_type": "markdown",
      "metadata": {
        "id": "PeRDoHVN_3TA"
      },
      "source": [
        "# 4. Build ML model"
      ]
    },
    {
      "cell_type": "markdown",
      "metadata": {
        "id": "_lhmqx-gGLsl"
      },
      "source": [
        "I developed five commonly used clasification models, including logistic regression, support vector machine(SVM), naive Bayes, random forest, and Xgboost to predict the binary outcome of success or not. The models will be used to fit the training data and predict the test data. The performance of these will be evaluated and compared based on multiple evaluation metrics, including roc_auc score, precision, recall and F1 score. The bese performaing model will be chosen to make the final prediction."
      ]
    },
    {
      "cell_type": "markdown",
      "metadata": {
        "id": "xpdeZGvK-0Q6"
      },
      "source": [
        "**4.1 No oversampling:**"
      ]
    },
    {
      "cell_type": "code",
      "metadata": {
        "id": "JuKu7cjA_1gl"
      },
      "source": [
        "results_train = pd.DataFrame()\n",
        "results_test = pd.DataFrame()\n",
        "\n",
        "# Instantiate the machine learning classifiers\n",
        "models = [LogisticRegression(), GaussianNB(), LinearSVC(dual=False), RandomForestClassifier(), xgb()]\n",
        "\n",
        "for model in models:\n",
        "\n",
        "    # train the model and make predictions\n",
        "    clf = model.fit(X_train_ss, y_train)\n",
        "    y_train_pred = clf.predict(X_train_ss)\n",
        "    y_test_pred = clf.predict(X_test_ss)\n",
        "\n",
        "    # evaluate model performance on the training data\n",
        "    results_train = results_train.append ({'ROC_AUC': roc_auc_score(y_train, y_train_pred),\n",
        "                                           'F1_Score': f1_score(y_train, y_train_pred),\n",
        "                                           'Precision': precision_score(y_train, y_train_pred),\n",
        "                                           'Recall': recall_score(y_train, y_train_pred)},\n",
        "                                            ignore_index=True)\n",
        "\n",
        "    # evaluate model performance on the test data\n",
        "    results_test = results_test.append ({'ROC_AUC': roc_auc_score(y_test, y_test_pred),\n",
        "                                         'F1_Score': f1_score(y_test, y_test_pred),\n",
        "                                         'Precision': precision_score(y_test, y_test_pred),\n",
        "                                         'Recall': recall_score(y_test, y_test_pred)},\n",
        "                                          ignore_index=True)\n",
        "\n",
        "results_train.index = ['LR', 'NB', 'SVM', 'RF', 'Xgb']\n",
        "results_test.index = ['LR', 'NB', 'SVM', 'RF', 'Xgb']\n",
        "\n",
        "results_train_t = results_train.T\n",
        "results_train_t['Best Score'] = results_train_t.idxmax(axis=1)\n",
        "\n",
        "results_test_t = results_test.T\n",
        "results_test_t['Best Score'] = results_test_t.idxmax(axis=1)"
      ],
      "execution_count": null,
      "outputs": []
    },
    {
      "cell_type": "code",
      "metadata": {
        "colab": {
          "base_uri": "https://localhost:8080/",
          "height": 173
        },
        "id": "bjMzL8uH-8U6",
        "outputId": "b87a227f-1f83-4bec-caa7-fdfdb7c583a1"
      },
      "source": [
        "results_train_t"
      ],
      "execution_count": null,
      "outputs": [
        {
          "output_type": "execute_result",
          "data": {
            "text/html": [
              "<div>\n",
              "<style scoped>\n",
              "    .dataframe tbody tr th:only-of-type {\n",
              "        vertical-align: middle;\n",
              "    }\n",
              "\n",
              "    .dataframe tbody tr th {\n",
              "        vertical-align: top;\n",
              "    }\n",
              "\n",
              "    .dataframe thead th {\n",
              "        text-align: right;\n",
              "    }\n",
              "</style>\n",
              "<table border=\"1\" class=\"dataframe\">\n",
              "  <thead>\n",
              "    <tr style=\"text-align: right;\">\n",
              "      <th></th>\n",
              "      <th>LR</th>\n",
              "      <th>NB</th>\n",
              "      <th>SVM</th>\n",
              "      <th>RF</th>\n",
              "      <th>Xgb</th>\n",
              "      <th>Best Score</th>\n",
              "    </tr>\n",
              "  </thead>\n",
              "  <tbody>\n",
              "    <tr>\n",
              "      <th>F1_Score</th>\n",
              "      <td>0.024691</td>\n",
              "      <td>0.212389</td>\n",
              "      <td>0.0</td>\n",
              "      <td>1.0</td>\n",
              "      <td>0.548673</td>\n",
              "      <td>RF</td>\n",
              "    </tr>\n",
              "    <tr>\n",
              "      <th>Precision</th>\n",
              "      <td>1.000000</td>\n",
              "      <td>0.363636</td>\n",
              "      <td>0.0</td>\n",
              "      <td>1.0</td>\n",
              "      <td>0.939394</td>\n",
              "      <td>LR</td>\n",
              "    </tr>\n",
              "    <tr>\n",
              "      <th>ROC_AUC</th>\n",
              "      <td>0.506250</td>\n",
              "      <td>0.559783</td>\n",
              "      <td>0.5</td>\n",
              "      <td>1.0</td>\n",
              "      <td>0.692301</td>\n",
              "      <td>RF</td>\n",
              "    </tr>\n",
              "    <tr>\n",
              "      <th>Recall</th>\n",
              "      <td>0.012500</td>\n",
              "      <td>0.150000</td>\n",
              "      <td>0.0</td>\n",
              "      <td>1.0</td>\n",
              "      <td>0.387500</td>\n",
              "      <td>RF</td>\n",
              "    </tr>\n",
              "  </tbody>\n",
              "</table>\n",
              "</div>"
            ],
            "text/plain": [
              "                 LR        NB  SVM   RF       Xgb Best Score\n",
              "F1_Score   0.024691  0.212389  0.0  1.0  0.548673         RF\n",
              "Precision  1.000000  0.363636  0.0  1.0  0.939394         LR\n",
              "ROC_AUC    0.506250  0.559783  0.5  1.0  0.692301         RF\n",
              "Recall     0.012500  0.150000  0.0  1.0  0.387500         RF"
            ]
          },
          "metadata": {
            "tags": []
          },
          "execution_count": 63
        }
      ]
    },
    {
      "cell_type": "code",
      "metadata": {
        "colab": {
          "base_uri": "https://localhost:8080/",
          "height": 173
        },
        "id": "5AvfyGce-8d8",
        "outputId": "287da975-4fd8-4aaa-f06a-2c1c49722080"
      },
      "source": [
        "results_test_t"
      ],
      "execution_count": null,
      "outputs": [
        {
          "output_type": "execute_result",
          "data": {
            "text/html": [
              "<div>\n",
              "<style scoped>\n",
              "    .dataframe tbody tr th:only-of-type {\n",
              "        vertical-align: middle;\n",
              "    }\n",
              "\n",
              "    .dataframe tbody tr th {\n",
              "        vertical-align: top;\n",
              "    }\n",
              "\n",
              "    .dataframe thead th {\n",
              "        text-align: right;\n",
              "    }\n",
              "</style>\n",
              "<table border=\"1\" class=\"dataframe\">\n",
              "  <thead>\n",
              "    <tr style=\"text-align: right;\">\n",
              "      <th></th>\n",
              "      <th>LR</th>\n",
              "      <th>NB</th>\n",
              "      <th>SVM</th>\n",
              "      <th>RF</th>\n",
              "      <th>Xgb</th>\n",
              "      <th>Best Score</th>\n",
              "    </tr>\n",
              "  </thead>\n",
              "  <tbody>\n",
              "    <tr>\n",
              "      <th>F1_Score</th>\n",
              "      <td>0.0</td>\n",
              "      <td>0.060606</td>\n",
              "      <td>0.0</td>\n",
              "      <td>0.142857</td>\n",
              "      <td>0.137931</td>\n",
              "      <td>RF</td>\n",
              "    </tr>\n",
              "    <tr>\n",
              "      <th>Precision</th>\n",
              "      <td>0.0</td>\n",
              "      <td>0.100000</td>\n",
              "      <td>0.0</td>\n",
              "      <td>0.400000</td>\n",
              "      <td>0.333333</td>\n",
              "      <td>RF</td>\n",
              "    </tr>\n",
              "    <tr>\n",
              "      <th>ROC_AUC</th>\n",
              "      <td>0.5</td>\n",
              "      <td>0.495269</td>\n",
              "      <td>0.5</td>\n",
              "      <td>0.534655</td>\n",
              "      <td>0.531714</td>\n",
              "      <td>RF</td>\n",
              "    </tr>\n",
              "    <tr>\n",
              "      <th>Recall</th>\n",
              "      <td>0.0</td>\n",
              "      <td>0.043478</td>\n",
              "      <td>0.0</td>\n",
              "      <td>0.086957</td>\n",
              "      <td>0.086957</td>\n",
              "      <td>RF</td>\n",
              "    </tr>\n",
              "  </tbody>\n",
              "</table>\n",
              "</div>"
            ],
            "text/plain": [
              "            LR        NB  SVM        RF       Xgb Best Score\n",
              "F1_Score   0.0  0.060606  0.0  0.142857  0.137931         RF\n",
              "Precision  0.0  0.100000  0.0  0.400000  0.333333         RF\n",
              "ROC_AUC    0.5  0.495269  0.5  0.534655  0.531714         RF\n",
              "Recall     0.0  0.043478  0.0  0.086957  0.086957         RF"
            ]
          },
          "metadata": {
            "tags": []
          },
          "execution_count": 64
        }
      ]
    },
    {
      "cell_type": "markdown",
      "metadata": {
        "id": "LP1K0_dG_ru4"
      },
      "source": [
        "**As we can see, without balancing the target variable, the performance of all models are very poor.**"
      ]
    },
    {
      "cell_type": "markdown",
      "metadata": {
        "id": "DsM_mlHJ_9ix"
      },
      "source": [
        "**4.2 RandomOverSampling**"
      ]
    },
    {
      "cell_type": "code",
      "metadata": {
        "id": "oG3zEAUy-8rd"
      },
      "source": [
        "results_train1 = pd.DataFrame()\n",
        "results_test1 = pd.DataFrame()\n",
        "\n",
        "# Instantiate the machine learning classifiers\n",
        "models = [LogisticRegression(), GaussianNB(), LinearSVC(dual=False), RandomForestClassifier(), xgb()]\n",
        "\n",
        "for model in models:\n",
        "\n",
        "    # train the model and make predictions\n",
        "    clf = model.fit(X_train1, y_train1)\n",
        "    y_train_pred = clf.predict(X_train1)\n",
        "    y_test_pred = clf.predict(X_test_ss.values)\n",
        "\n",
        "    # evaluate model performance on the training data\n",
        "    results_train1 = results_train1.append ({'ROC_AUC': roc_auc_score(y_train1, y_train_pred),\n",
        "                                           'F1_Score': f1_score(y_train1, y_train_pred),\n",
        "                                           'Precision': precision_score(y_train1, y_train_pred),\n",
        "                                           'Recall': recall_score(y_train1, y_train_pred)},\n",
        "                                            ignore_index=True)\n",
        "\n",
        "    # evaluate model performance on the test data\n",
        "    results_test1 = results_test1.append ({'ROC_AUC': roc_auc_score(y_test, y_test_pred),\n",
        "                                         'F1_Score': f1_score(y_test, y_test_pred),\n",
        "                                         'Precision': precision_score(y_test, y_test_pred),\n",
        "                                         'Recall': recall_score(y_test, y_test_pred)},\n",
        "                                          ignore_index=True)\n",
        "\n",
        "results_train1.index = ['LR', 'NB', 'SVM', 'RF', 'Xgb']\n",
        "results_test1.index = ['LR', 'NB', 'SVM', 'RF', 'Xgb']\n",
        "\n",
        "results_train1_t = results_train1.T\n",
        "results_train1_t['Best Score'] = results_train1_t.idxmax(axis=1)\n",
        "\n",
        "results_test1_t = results_test1.T\n",
        "results_test1_t['Best Score'] = results_test1_t.idxmax(axis=1)"
      ],
      "execution_count": null,
      "outputs": []
    },
    {
      "cell_type": "code",
      "metadata": {
        "id": "EdSem3hc-83u",
        "colab": {
          "base_uri": "https://localhost:8080/",
          "height": 173
        },
        "outputId": "8ccc2356-7495-49e1-8fe0-f46f7c9c69f9"
      },
      "source": [
        "results_train1_t"
      ],
      "execution_count": null,
      "outputs": [
        {
          "output_type": "execute_result",
          "data": {
            "text/html": [
              "<div>\n",
              "<style scoped>\n",
              "    .dataframe tbody tr th:only-of-type {\n",
              "        vertical-align: middle;\n",
              "    }\n",
              "\n",
              "    .dataframe tbody tr th {\n",
              "        vertical-align: top;\n",
              "    }\n",
              "\n",
              "    .dataframe thead th {\n",
              "        text-align: right;\n",
              "    }\n",
              "</style>\n",
              "<table border=\"1\" class=\"dataframe\">\n",
              "  <thead>\n",
              "    <tr style=\"text-align: right;\">\n",
              "      <th></th>\n",
              "      <th>LR</th>\n",
              "      <th>NB</th>\n",
              "      <th>SVM</th>\n",
              "      <th>RF</th>\n",
              "      <th>Xgb</th>\n",
              "      <th>Best Score</th>\n",
              "    </tr>\n",
              "  </thead>\n",
              "  <tbody>\n",
              "    <tr>\n",
              "      <th>F1_Score</th>\n",
              "      <td>0.739069</td>\n",
              "      <td>0.720392</td>\n",
              "      <td>0.748603</td>\n",
              "      <td>1.0</td>\n",
              "      <td>0.948240</td>\n",
              "      <td>RF</td>\n",
              "    </tr>\n",
              "    <tr>\n",
              "      <th>Precision</th>\n",
              "      <td>0.719780</td>\n",
              "      <td>0.697422</td>\n",
              "      <td>0.722372</td>\n",
              "      <td>1.0</td>\n",
              "      <td>0.905138</td>\n",
              "      <td>RF</td>\n",
              "    </tr>\n",
              "    <tr>\n",
              "      <th>ROC_AUC</th>\n",
              "      <td>0.731884</td>\n",
              "      <td>0.710870</td>\n",
              "      <td>0.739130</td>\n",
              "      <td>1.0</td>\n",
              "      <td>0.945652</td>\n",
              "      <td>RF</td>\n",
              "    </tr>\n",
              "    <tr>\n",
              "      <th>Recall</th>\n",
              "      <td>0.759420</td>\n",
              "      <td>0.744928</td>\n",
              "      <td>0.776812</td>\n",
              "      <td>1.0</td>\n",
              "      <td>0.995652</td>\n",
              "      <td>RF</td>\n",
              "    </tr>\n",
              "  </tbody>\n",
              "</table>\n",
              "</div>"
            ],
            "text/plain": [
              "                 LR        NB       SVM   RF       Xgb Best Score\n",
              "F1_Score   0.739069  0.720392  0.748603  1.0  0.948240         RF\n",
              "Precision  0.719780  0.697422  0.722372  1.0  0.905138         RF\n",
              "ROC_AUC    0.731884  0.710870  0.739130  1.0  0.945652         RF\n",
              "Recall     0.759420  0.744928  0.776812  1.0  0.995652         RF"
            ]
          },
          "metadata": {
            "tags": []
          },
          "execution_count": 66
        }
      ]
    },
    {
      "cell_type": "code",
      "metadata": {
        "id": "s4wROS30-9Mn",
        "colab": {
          "base_uri": "https://localhost:8080/",
          "height": 173
        },
        "outputId": "6ca67c55-3a20-45b9-ae24-ef7a4f4f8a1c"
      },
      "source": [
        "results_test1_t"
      ],
      "execution_count": null,
      "outputs": [
        {
          "output_type": "execute_result",
          "data": {
            "text/html": [
              "<div>\n",
              "<style scoped>\n",
              "    .dataframe tbody tr th:only-of-type {\n",
              "        vertical-align: middle;\n",
              "    }\n",
              "\n",
              "    .dataframe tbody tr th {\n",
              "        vertical-align: top;\n",
              "    }\n",
              "\n",
              "    .dataframe thead th {\n",
              "        text-align: right;\n",
              "    }\n",
              "</style>\n",
              "<table border=\"1\" class=\"dataframe\">\n",
              "  <thead>\n",
              "    <tr style=\"text-align: right;\">\n",
              "      <th></th>\n",
              "      <th>LR</th>\n",
              "      <th>NB</th>\n",
              "      <th>SVM</th>\n",
              "      <th>RF</th>\n",
              "      <th>Xgb</th>\n",
              "      <th>Best Score</th>\n",
              "    </tr>\n",
              "  </thead>\n",
              "  <tbody>\n",
              "    <tr>\n",
              "      <th>F1_Score</th>\n",
              "      <td>0.311111</td>\n",
              "      <td>0.376471</td>\n",
              "      <td>0.301075</td>\n",
              "      <td>0.176471</td>\n",
              "      <td>0.233333</td>\n",
              "      <td>NB</td>\n",
              "    </tr>\n",
              "    <tr>\n",
              "      <th>Precision</th>\n",
              "      <td>0.208955</td>\n",
              "      <td>0.258065</td>\n",
              "      <td>0.200000</td>\n",
              "      <td>0.272727</td>\n",
              "      <td>0.189189</td>\n",
              "      <td>RF</td>\n",
              "    </tr>\n",
              "    <tr>\n",
              "      <th>ROC_AUC</th>\n",
              "      <td>0.648465</td>\n",
              "      <td>0.712532</td>\n",
              "      <td>0.639642</td>\n",
              "      <td>0.541688</td>\n",
              "      <td>0.563939</td>\n",
              "      <td>NB</td>\n",
              "    </tr>\n",
              "    <tr>\n",
              "      <th>Recall</th>\n",
              "      <td>0.608696</td>\n",
              "      <td>0.695652</td>\n",
              "      <td>0.608696</td>\n",
              "      <td>0.130435</td>\n",
              "      <td>0.304348</td>\n",
              "      <td>NB</td>\n",
              "    </tr>\n",
              "  </tbody>\n",
              "</table>\n",
              "</div>"
            ],
            "text/plain": [
              "                 LR        NB       SVM        RF       Xgb Best Score\n",
              "F1_Score   0.311111  0.376471  0.301075  0.176471  0.233333         NB\n",
              "Precision  0.208955  0.258065  0.200000  0.272727  0.189189         RF\n",
              "ROC_AUC    0.648465  0.712532  0.639642  0.541688  0.563939         NB\n",
              "Recall     0.608696  0.695652  0.608696  0.130435  0.304348         NB"
            ]
          },
          "metadata": {
            "tags": []
          },
          "execution_count": 67
        }
      ]
    },
    {
      "cell_type": "markdown",
      "metadata": {
        "id": "_f0YSJLCDNa6"
      },
      "source": [
        "**4.3 SMOTE oversampling**"
      ]
    },
    {
      "cell_type": "code",
      "metadata": {
        "id": "mg21tgYY-9ZC"
      },
      "source": [
        "results_train2 = pd.DataFrame()\n",
        "results_test2 = pd.DataFrame()\n",
        "\n",
        "# Instantiate the machine learning classifiers\n",
        "models = [LogisticRegression(), GaussianNB(), LinearSVC(dual=False), RandomForestClassifier(), xgb()]\n",
        "\n",
        "for model in models:\n",
        "\n",
        "    # train the model and make predictions\n",
        "    clf = model.fit(X_train2, y_train2)\n",
        "    y_train_pred = clf.predict(X_train2)\n",
        "    y_test_pred = clf.predict(X_test_ss.values)\n",
        "\n",
        "    # evaluate model performance on the training data\n",
        "    results_train2 = results_train2.append ({'ROC_AUC': roc_auc_score(y_train2, y_train_pred),\n",
        "                                           'F1_Score': f1_score(y_train2, y_train_pred),\n",
        "                                           'Precision': precision_score(y_train2, y_train_pred),\n",
        "                                           'Recall': recall_score(y_train2, y_train_pred)},\n",
        "                                            ignore_index=True)\n",
        "\n",
        "    # evaluate model performance on the test data\n",
        "    results_test2 = results_test2.append ({'ROC_AUC': roc_auc_score(y_test, y_test_pred),\n",
        "                                         'F1_Score': f1_score(y_test, y_test_pred),\n",
        "                                         'Precision': precision_score(y_test, y_test_pred),\n",
        "                                         'Recall': recall_score(y_test, y_test_pred)},\n",
        "                                          ignore_index=True)\n",
        "\n",
        "results_train2.index = ['LR', 'NB', 'SVM', 'RF', 'Xgb']\n",
        "results_test2.index = ['LR', 'NB', 'SVM', 'RF', 'Xgb']\n",
        "\n",
        "results_train2_t = results_train2.T\n",
        "results_train2_t['Best Score'] = results_train2_t.idxmax(axis=1)\n",
        "\n",
        "results_test2_t = results_test2.T\n",
        "results_test2_t['Best Score'] = results_test2_t.idxmax(axis=1)"
      ],
      "execution_count": null,
      "outputs": []
    },
    {
      "cell_type": "code",
      "metadata": {
        "id": "8OQCx03C-9mt",
        "colab": {
          "base_uri": "https://localhost:8080/",
          "height": 173
        },
        "outputId": "ee2ec885-5bfd-4781-c035-90d921166d09"
      },
      "source": [
        "results_train2_t"
      ],
      "execution_count": null,
      "outputs": [
        {
          "output_type": "execute_result",
          "data": {
            "text/html": [
              "<div>\n",
              "<style scoped>\n",
              "    .dataframe tbody tr th:only-of-type {\n",
              "        vertical-align: middle;\n",
              "    }\n",
              "\n",
              "    .dataframe tbody tr th {\n",
              "        vertical-align: top;\n",
              "    }\n",
              "\n",
              "    .dataframe thead th {\n",
              "        text-align: right;\n",
              "    }\n",
              "</style>\n",
              "<table border=\"1\" class=\"dataframe\">\n",
              "  <thead>\n",
              "    <tr style=\"text-align: right;\">\n",
              "      <th></th>\n",
              "      <th>LR</th>\n",
              "      <th>NB</th>\n",
              "      <th>SVM</th>\n",
              "      <th>RF</th>\n",
              "      <th>Xgb</th>\n",
              "      <th>Best Score</th>\n",
              "    </tr>\n",
              "  </thead>\n",
              "  <tbody>\n",
              "    <tr>\n",
              "      <th>F1_Score</th>\n",
              "      <td>0.506667</td>\n",
              "      <td>0.598870</td>\n",
              "      <td>0.522484</td>\n",
              "      <td>1.0</td>\n",
              "      <td>0.873294</td>\n",
              "      <td>RF</td>\n",
              "    </tr>\n",
              "    <tr>\n",
              "      <th>Precision</th>\n",
              "      <td>0.655172</td>\n",
              "      <td>0.623529</td>\n",
              "      <td>0.638743</td>\n",
              "      <td>1.0</td>\n",
              "      <td>0.945148</td>\n",
              "      <td>RF</td>\n",
              "    </tr>\n",
              "    <tr>\n",
              "      <th>ROC_AUC</th>\n",
              "      <td>0.663043</td>\n",
              "      <td>0.718478</td>\n",
              "      <td>0.671014</td>\n",
              "      <td>1.0</td>\n",
              "      <td>0.896377</td>\n",
              "      <td>RF</td>\n",
              "    </tr>\n",
              "    <tr>\n",
              "      <th>Recall</th>\n",
              "      <td>0.413043</td>\n",
              "      <td>0.576087</td>\n",
              "      <td>0.442029</td>\n",
              "      <td>1.0</td>\n",
              "      <td>0.811594</td>\n",
              "      <td>RF</td>\n",
              "    </tr>\n",
              "  </tbody>\n",
              "</table>\n",
              "</div>"
            ],
            "text/plain": [
              "                 LR        NB       SVM   RF       Xgb Best Score\n",
              "F1_Score   0.506667  0.598870  0.522484  1.0  0.873294         RF\n",
              "Precision  0.655172  0.623529  0.638743  1.0  0.945148         RF\n",
              "ROC_AUC    0.663043  0.718478  0.671014  1.0  0.896377         RF\n",
              "Recall     0.413043  0.576087  0.442029  1.0  0.811594         RF"
            ]
          },
          "metadata": {
            "tags": []
          },
          "execution_count": 69
        }
      ]
    },
    {
      "cell_type": "code",
      "metadata": {
        "id": "wZkTDRxu0jXz",
        "colab": {
          "base_uri": "https://localhost:8080/",
          "height": 173
        },
        "outputId": "8ab64e21-ec2a-485f-8023-0230150120f7"
      },
      "source": [
        "results_test2_t"
      ],
      "execution_count": null,
      "outputs": [
        {
          "output_type": "execute_result",
          "data": {
            "text/html": [
              "<div>\n",
              "<style scoped>\n",
              "    .dataframe tbody tr th:only-of-type {\n",
              "        vertical-align: middle;\n",
              "    }\n",
              "\n",
              "    .dataframe tbody tr th {\n",
              "        vertical-align: top;\n",
              "    }\n",
              "\n",
              "    .dataframe thead th {\n",
              "        text-align: right;\n",
              "    }\n",
              "</style>\n",
              "<table border=\"1\" class=\"dataframe\">\n",
              "  <thead>\n",
              "    <tr style=\"text-align: right;\">\n",
              "      <th></th>\n",
              "      <th>LR</th>\n",
              "      <th>NB</th>\n",
              "      <th>SVM</th>\n",
              "      <th>RF</th>\n",
              "      <th>Xgb</th>\n",
              "      <th>Best Score</th>\n",
              "    </tr>\n",
              "  </thead>\n",
              "  <tbody>\n",
              "    <tr>\n",
              "      <th>F1_Score</th>\n",
              "      <td>0.146341</td>\n",
              "      <td>0.196078</td>\n",
              "      <td>0.166667</td>\n",
              "      <td>0.285714</td>\n",
              "      <td>0.240000</td>\n",
              "      <td>RF</td>\n",
              "    </tr>\n",
              "    <tr>\n",
              "      <th>Precision</th>\n",
              "      <td>0.166667</td>\n",
              "      <td>0.178571</td>\n",
              "      <td>0.160000</td>\n",
              "      <td>0.269231</td>\n",
              "      <td>0.173077</td>\n",
              "      <td>RF</td>\n",
              "    </tr>\n",
              "    <tr>\n",
              "      <th>ROC_AUC</th>\n",
              "      <td>0.521100</td>\n",
              "      <td>0.541049</td>\n",
              "      <td>0.525192</td>\n",
              "      <td>0.596292</td>\n",
              "      <td>0.569182</td>\n",
              "      <td>RF</td>\n",
              "    </tr>\n",
              "    <tr>\n",
              "      <th>Recall</th>\n",
              "      <td>0.130435</td>\n",
              "      <td>0.217391</td>\n",
              "      <td>0.173913</td>\n",
              "      <td>0.304348</td>\n",
              "      <td>0.391304</td>\n",
              "      <td>Xgb</td>\n",
              "    </tr>\n",
              "  </tbody>\n",
              "</table>\n",
              "</div>"
            ],
            "text/plain": [
              "                 LR        NB       SVM        RF       Xgb Best Score\n",
              "F1_Score   0.146341  0.196078  0.166667  0.285714  0.240000         RF\n",
              "Precision  0.166667  0.178571  0.160000  0.269231  0.173077         RF\n",
              "ROC_AUC    0.521100  0.541049  0.525192  0.596292  0.569182         RF\n",
              "Recall     0.130435  0.217391  0.173913  0.304348  0.391304        Xgb"
            ]
          },
          "metadata": {
            "tags": []
          },
          "execution_count": 70
        }
      ]
    },
    {
      "cell_type": "markdown",
      "metadata": {
        "id": "vv8q0tk8EPEg"
      },
      "source": [
        "**As we can see, tree based models tend to overfit the model in our case, probably due to the small sample size. And RandomOversampling performs better than SMOTE.**"
      ]
    },
    {
      "cell_type": "markdown",
      "metadata": {
        "id": "Q4M9yS6LJBfg"
      },
      "source": [
        "**Based on the above analysis, NB is the best model to use, however, it's performance is not ideal. And I would defintely suggest to obtain more samples before fine-tune the model**"
      ]
    },
    {
      "cell_type": "code",
      "metadata": {
        "id": "Vps1tnDW0WFQ"
      },
      "source": [
        "clf_NB = GaussianNB()"
      ],
      "execution_count": null,
      "outputs": []
    },
    {
      "cell_type": "code",
      "metadata": {
        "colab": {
          "base_uri": "https://localhost:8080/"
        },
        "id": "Z2Iz5mvgJjd8",
        "outputId": "832c958d-cfac-4c90-ffaa-8188f94433de"
      },
      "source": [
        "clf_NB.fit(X_train1, y_train1)"
      ],
      "execution_count": null,
      "outputs": [
        {
          "output_type": "execute_result",
          "data": {
            "text/plain": [
              "GaussianNB(priors=None, var_smoothing=1e-09)"
            ]
          },
          "metadata": {
            "tags": []
          },
          "execution_count": 72
        }
      ]
    },
    {
      "cell_type": "code",
      "metadata": {
        "id": "pnlVjPW8Jzg_"
      },
      "source": [
        "y_test_pred_NB = clf_NB.predict(X_test_ss)"
      ],
      "execution_count": null,
      "outputs": []
    },
    {
      "cell_type": "code",
      "metadata": {
        "colab": {
          "base_uri": "https://localhost:8080/"
        },
        "id": "6KJh2GAUJzxd",
        "outputId": "c698bb2b-69a9-46e2-b7bd-902775f5ea00"
      },
      "source": [
        "print(classification_report(y_test, y_test_pred_NB, labels=[0,1]))"
      ],
      "execution_count": null,
      "outputs": [
        {
          "output_type": "stream",
          "text": [
            "              precision    recall  f1-score   support\n",
            "\n",
            "           0       0.95      0.73      0.82       170\n",
            "           1       0.26      0.70      0.38        23\n",
            "\n",
            "    accuracy                           0.73       193\n",
            "   macro avg       0.60      0.71      0.60       193\n",
            "weighted avg       0.86      0.73      0.77       193\n",
            "\n"
          ],
          "name": "stdout"
        }
      ]
    },
    {
      "cell_type": "markdown",
      "metadata": {
        "id": "vPMIIeM5Ke0Y"
      },
      "source": [
        "**4.4 Feature Importance**"
      ]
    },
    {
      "cell_type": "code",
      "metadata": {
        "id": "Wgz18rXdLMZ3"
      },
      "source": [
        "from sklearn.inspection import permutation_importance\n"
      ],
      "execution_count": null,
      "outputs": []
    },
    {
      "cell_type": "code",
      "metadata": {
        "colab": {
          "base_uri": "https://localhost:8080/"
        },
        "id": "JlK97EU0Kj9L",
        "outputId": "6b92121e-8068-4222-fe84-09daccacb21f"
      },
      "source": [
        "importance = permutation_importance(clf_NB, X_test_ss, y_test)\n",
        "print(importance.importances_mean)\n"
      ],
      "execution_count": null,
      "outputs": [
        {
          "output_type": "stream",
          "text": [
            "[ 0.07875648  0.03523316 -0.00621762  0.04663212  0.          0.00725389\n",
            "  0.01865285  0.03108808  0.02590674]\n"
          ],
          "name": "stdout"
        }
      ]
    },
    {
      "cell_type": "code",
      "metadata": {
        "colab": {
          "base_uri": "https://localhost:8080/",
          "height": 285
        },
        "id": "EdJIVgJILnbF",
        "outputId": "a97be53c-dadf-4a75-e4df-5a815e4b7279"
      },
      "source": [
        "weights = pd.Series(-importance.importances_mean, index=X_train.columns.values)\n",
        "weights.sort_values(ascending = False).plot(kind = 'barh')"
      ],
      "execution_count": null,
      "outputs": [
        {
          "output_type": "execute_result",
          "data": {
            "text/plain": [
              "<matplotlib.axes._subplots.AxesSubplot at 0x7f1883de7890>"
            ]
          },
          "metadata": {
            "tags": []
          },
          "execution_count": 81
        },
        {
          "output_type": "display_data",
          "data": {
            "image/png": "[encoded data removed]",
            "text/plain": [
              "<Figure size 432x288 with 1 Axes>"
            ]
          },
          "metadata": {
            "tags": []
          }
        }
      ]
    },
    {
      "cell_type": "markdown",
      "metadata": {
        "id": "AizFHwPoL5cb"
      },
      "source": [
        "**Summary report to the DS team:**\n",
        "\n",
        "\n",
        "> The commonly used Naive Bayes was chosen after comparison with other classification models to predict the correlation between provided features and the success of whether customer will accept the discount offer or not. The model performance evaluation scores are overall > 0.70 for the training data but behaves poorly for the test data, indicating a room to be improved. This might be due to that the sample size is too small (n < 1000) and highly imbalanced. Collecting more observations will definitely help improve model accuracy and prediction ability.\n",
        "> Also, some other features to consider:\n",
        "- Sex of the customer\n",
        "- Frequent customer or not (indicating by the past rental records)\n",
        "- Any other discount used by the customer\n",
        "- Drive alone or not\n",
        "\n",
        "\n",
        "\n",
        "\n",
        "\n",
        "\n",
        "\n",
        "\n",
        "\n"
      ]
    },
    {
      "cell_type": "markdown",
      "metadata": {
        "id": "HYg4WEBePdnV"
      },
      "source": [
        "**Summary to the management**\n",
        "> Based on the current model, we determined that in order to have more customers accept our offer, some possible things we can try:\n",
        "- Reduce the extra distance the customer need to drive (out_of_way_score)\n",
        "- Reduce the rental rate\n",
        "- Offer higher amount of discount\n"
      ]
    }
  ]
}